{
  "cells": [
    {
      "cell_type": "markdown",
      "metadata": {
        "id": "view-in-github",
        "colab_type": "text"
      },
      "source": [
        "<a href=\"https://colab.research.google.com/github/ptomar7/ptomar7/blob/main/High_Code_SVHN_Digit_Recognition.ipynb\" target=\"_parent\"><img src=\"https://colab.research.google.com/assets/colab-badge.svg\" alt=\"Open In Colab\"/></a>"
      ]
    },
    {
      "cell_type": "markdown",
      "metadata": {
        "id": "Q91KqmCRu64D"
      },
      "source": [
        "# **Deep Learning Project: Street View Housing Number Digit Recognition**\n",
        "\n",
        "# **Marks: 60**\n",
        "\n",
        "--------------\n",
        "## **Context**\n",
        "--------------\n",
        "\n",
        "One of the most interesting tasks in deep learning is to recognize objects in natural scenes. The ability to process visual information using machine learning algorithms can be very useful as demonstrated in various applications.\n",
        "\n",
        "The SVHN dataset contains over 600,000 labeled digits cropped from street-level photos. It is one of the most popular image recognition datasets. It has been used in neural networks created by Google to improve the map quality by automatically transcribing the address numbers from a patch of pixels. The transcribed number with a known street address helps pinpoint the location of the building it represents.\n",
        "\n",
        "----------------\n",
        "## **Objective**\n",
        "----------------\n",
        "\n",
        "Our objective is to predict the number depicted inside the image by using Artificial or Fully Connected Feed Forward Neural Networks and Convolutional Neural Networks. We will go through various models of each and finally select the one that is giving us the best performance.\n",
        "\n",
        "-------------\n",
        "## **Dataset**\n",
        "-------------\n",
        "Here, we will use a subset of the original data to save some computation time. The dataset is provided as a .h5 file. The basic preprocessing steps have been applied on the dataset."
      ]
    },
    {
      "cell_type": "markdown",
      "metadata": {
        "id": "8z2Z7-OAs8QG"
      },
      "source": [
        "## **Mount the drive**\n",
        "\n",
        "Let us start by mounting the Google drive. You can run the below cell to mount the Google drive."
      ]
    },
    {
      "cell_type": "code",
      "execution_count": null,
      "metadata": {
        "id": "03lDyQUuef7z",
        "colab": {
          "base_uri": "https://localhost:8080/"
        },
        "outputId": "d91e4b1e-bcd2-4b92-9d59-8e539dfe13d5"
      },
      "outputs": [
        {
          "output_type": "stream",
          "name": "stdout",
          "text": [
            "Drive already mounted at /content/drive; to attempt to forcibly remount, call drive.mount(\"/content/drive\", force_remount=True).\n"
          ]
        }
      ],
      "source": [
        "from google.colab import drive\n",
        "drive.mount('/content/drive')"
      ]
    },
    {
      "cell_type": "markdown",
      "metadata": {
        "id": "C8U3DUa3eNsT"
      },
      "source": [
        "## **Importing the necessary libraries**"
      ]
    },
    {
      "cell_type": "code",
      "execution_count": null,
      "metadata": {
        "id": "-dVzeuF3eQx1"
      },
      "outputs": [],
      "source": [
        "import pandas as pd\n",
        "import numpy as np\n",
        "\n",
        "import random\n",
        "\n",
        "import matplotlib.pyplot as plt\n",
        "import seaborn as sns\n",
        "\n",
        "from sklearn.model_selection import train_test_split\n",
        "from sklearn.preprocessing import MinMaxScaler\n",
        "\n",
        "import tensorflow as tf\n",
        "from tensorflow.keras import backend\n",
        "from tensorflow.keras.losses import categorical_crossentropy\n",
        "\n",
        "\n"
      ]
    },
    {
      "cell_type": "markdown",
      "metadata": {
        "id": "ucnevGLoyKf_"
      },
      "source": [
        "**Let us check the version of tensorflow.**"
      ]
    },
    {
      "cell_type": "code",
      "execution_count": null,
      "metadata": {
        "id": "W5as47YxyJVk",
        "colab": {
          "base_uri": "https://localhost:8080/"
        },
        "outputId": "3bba6190-4871-437f-961b-7d42f98c5ffa"
      },
      "outputs": [
        {
          "output_type": "stream",
          "name": "stdout",
          "text": [
            "Tensorflow version:  2.12.0\n"
          ]
        }
      ],
      "source": [
        "print(\"Tensorflow version: \", tf.__version__)"
      ]
    },
    {
      "cell_type": "markdown",
      "metadata": {
        "id": "8lsux2ZwyTTR"
      },
      "source": [
        "## **Load the dataset**\n",
        "\n",
        "- Let us now load the dataset that is available as a .h5 file.\n",
        "- Split the data into the train and the test dataset."
      ]
    },
    {
      "cell_type": "code",
      "execution_count": null,
      "metadata": {
        "id": "BApX9qgNsqV0",
        "scrolled": true
      },
      "outputs": [],
      "source": [
        "import h5py\n",
        "\n",
        "# Open the file as read only\n",
        "\n",
        "h5data = h5py.File('/content/drive/MyDrive/MIT-Data Science/Elective Project/SVHN_single_grey1.h5', 'r')\n",
        "\n"
      ]
    },
    {
      "cell_type": "code",
      "source": [
        "\n",
        "list(h5data.values())\n",
        "\n"
      ],
      "metadata": {
        "colab": {
          "base_uri": "https://localhost:8080/"
        },
        "id": "2mfsu1MDpNja",
        "outputId": "e0d515f0-6873-414c-e6a3-a766a6adbb28"
      },
      "execution_count": null,
      "outputs": [
        {
          "output_type": "execute_result",
          "data": {
            "text/plain": [
              "[<HDF5 dataset \"X_test\": shape (18000, 32, 32), type \"<f4\">,\n",
              " <HDF5 dataset \"X_train\": shape (42000, 32, 32), type \"<f4\">,\n",
              " <HDF5 dataset \"X_val\": shape (60000, 32, 32), type \"<f4\">,\n",
              " <HDF5 dataset \"y_test\": shape (18000,), type \"|u1\">,\n",
              " <HDF5 dataset \"y_train\": shape (42000,), type \"|u1\">,\n",
              " <HDF5 dataset \"y_val\": shape (60000,), type \"|u1\">]"
            ]
          },
          "metadata": {},
          "execution_count": 6
        }
      ]
    },
    {
      "cell_type": "markdown",
      "source": [
        "Observations:\n",
        "- h5data file has information stored as dictionary (Key:value pair). There are following keys: ['X_test', 'X_train', 'X_val', 'y_test', 'y_train', 'y_val']"
      ],
      "metadata": {
        "id": "aMPh7SoaoNiw"
      }
    },
    {
      "cell_type": "code",
      "source": [
        "# Load the training dataset\n",
        "\n",
        "X_train = h5data['X_train'][:]\n",
        "\n",
        "y_train = h5data['y_train'][:]\n",
        "\n",
        "# Load the test dataset\n",
        "\n",
        "X_test = h5data['X_test'][:]\n",
        "\n",
        "y_test = h5data['y_test'][:]\n",
        "\n",
        "\n",
        "# Close this file\n",
        "\n",
        "h5data.close()"
      ],
      "metadata": {
        "id": "Jsd6RRUmmEpf"
      },
      "execution_count": null,
      "outputs": []
    },
    {
      "cell_type": "markdown",
      "metadata": {
        "id": "hVe0CYpUgj7w"
      },
      "source": [
        "Check the number of images in the training and the testing dataset."
      ]
    },
    {
      "cell_type": "code",
      "source": [
        "print(\"Training dataset: \", X_train.shape, \"Training Output dataset: \",y_train.shape, '\\nTest input dataset: ', X_test.shape, 'Test output dataset: ', y_test.shape)"
      ],
      "metadata": {
        "colab": {
          "base_uri": "https://localhost:8080/"
        },
        "id": "rmmPXpstWT1Z",
        "outputId": "59e3a029-b353-4f71-9bc8-f52869c0d2cc"
      },
      "execution_count": null,
      "outputs": [
        {
          "output_type": "stream",
          "name": "stdout",
          "text": [
            "Training dataset:  (42000, 32, 32) Training Output dataset:  (42000,) \n",
            "Test input dataset:  (18000, 32, 32) Test output dataset:  (18000,)\n"
          ]
        }
      ]
    },
    {
      "cell_type": "code",
      "execution_count": null,
      "metadata": {
        "id": "y3lwKpOefkpA",
        "colab": {
          "base_uri": "https://localhost:8080/"
        },
        "outputId": "fa0f7fae-2768-40bd-a00c-18a1bec42aa4"
      },
      "outputs": [
        {
          "output_type": "stream",
          "name": "stdout",
          "text": [
            "Number of images stored in the trining dataset =  42000 \n",
            "Number of images stored in the testing dataset =  18000\n"
          ]
        }
      ],
      "source": [
        "#number of images in the training and the testing dataset\n",
        "print(\"Number of images stored in the trining dataset = \", len(X_train),'\\n'\\\n",
        "      'Number of images stored in the testing dataset = ', len(X_test))"
      ]
    },
    {
      "cell_type": "markdown",
      "metadata": {
        "id": "akTUOfLlgwoM"
      },
      "source": [
        "**Observation:**\n",
        "- Number of images stored in the trining dataset =  42000\n",
        "- Number of images stored in the testing dataset =  18000\n",
        "\n",
        "**Additional information:**\n",
        "- Training dataset:  (42000, 32, 32) Training Output dataset:  (42000,)\n",
        "- Test input dataset:  (18000, 32, 32) Test output dataset:  (18000,)"
      ]
    },
    {
      "cell_type": "code",
      "source": [
        "print('Target unique values: ', np.unique(y_train))\n",
        "X_train[0, :]"
      ],
      "metadata": {
        "colab": {
          "base_uri": "https://localhost:8080/"
        },
        "id": "zrTdY9RpWgVr",
        "outputId": "7f35da23-a99b-4ec3-85bd-e4ea25053bcc"
      },
      "execution_count": null,
      "outputs": [
        {
          "output_type": "stream",
          "name": "stdout",
          "text": [
            "Target unique values:  [0 1 2 3 4 5 6 7 8 9]\n"
          ]
        },
        {
          "output_type": "execute_result",
          "data": {
            "text/plain": [
              "array([[ 33.0704,  30.2601,  26.852 , ...,  71.4471,  58.2204,  42.9939],\n",
              "       [ 25.2283,  25.5533,  29.9765, ..., 113.0209, 103.3639,  84.2949],\n",
              "       [ 26.2775,  22.6137,  40.4763, ..., 113.3028, 121.775 , 115.4228],\n",
              "       ...,\n",
              "       [ 28.5502,  36.212 ,  45.0801, ...,  24.1359,  25.0927,  26.0603],\n",
              "       [ 38.4352,  26.4733,  23.2717, ...,  28.1094,  29.4683,  30.0661],\n",
              "       [ 50.2984,  26.0773,  24.0389, ...,  49.6682,  50.853 ,  53.0377]],\n",
              "      dtype=float32)"
            ]
          },
          "metadata": {},
          "execution_count": 10
        }
      ]
    },
    {
      "cell_type": "markdown",
      "metadata": {
        "id": "kxODV6HKykuc"
      },
      "source": [
        "## **Visualizing images**\n",
        "\n",
        "- Use X_train to visualize the first 10 images.\n",
        "- Use Y_train to print the first 10 labels."
      ]
    },
    {
      "cell_type": "code",
      "execution_count": null,
      "metadata": {
        "id": "Bvsc8ytHsqWD",
        "colab": {
          "base_uri": "https://localhost:8080/",
          "height": 243
        },
        "outputId": "dedd7305-b42e-4b03-f185-830b0039468e"
      },
      "outputs": [
        {
          "output_type": "display_data",
          "data": {
            "text/plain": [
              "<Figure size 500x1500 with 50 Axes>"
            ],
            "image/png": "[encoded data removed]"
          },
          "metadata": {}
        }
      ],
      "source": [
        "num_classes=10                                                    # Number of Classes\n",
        "categories=np.unique(y_train)                                     # Obtaing the unique classes from y_train\n",
        "rows = 10                                                         # Defining number of rows=10\n",
        "cols = 5                                                          # Defining number of columns=5\n",
        "fig = plt.figure(figsize=(5, 15))                                 # Defining the figure size to 10x5\n",
        "for i in range(cols):\n",
        "  for j in range(rows):\n",
        "    ax = fig.add_subplot(rows, cols, j + 1 )\n",
        "    ax.imshow(X_train[j, :], cmap=plt.get_cmap('Blues'))          # Plotting the image\n",
        "    ax.set_title(categories[y_train[j]])\n",
        "    ax.axis('off')\n",
        "\n",
        "plt.show()"
      ]
    },
    {
      "cell_type": "code",
      "source": [
        "# Plot distribution of each category\n",
        "count_plot = sns.countplot(x=y_train)\n",
        "plt.Xlabel = ' Category'"
      ],
      "metadata": {
        "colab": {
          "base_uri": "https://localhost:8080/",
          "height": 430
        },
        "id": "11HZpvECSqWt",
        "outputId": "220cf6df-72a5-4192-b066-d116dae1090a"
      },
      "execution_count": null,
      "outputs": [
        {
          "output_type": "display_data",
          "data": {
            "text/plain": [
              "<Figure size 640x480 with 1 Axes>"
            ],
            "image/png": "[encoded data removed]"
          },
          "metadata": {}
        }
      ]
    },
    {
      "cell_type": "markdown",
      "source": [
        "**Observations**\n",
        "- We observe that the dataset appears to be quite balanced, each category is evenly distributed among the 42000 images.\n",
        "\n",
        "- So accuracy should be a good evaluation metric for the model performance in this case study."
      ],
      "metadata": {
        "id": "XAwlZW3XUNXG"
      }
    },
    {
      "cell_type": "markdown",
      "metadata": {
        "id": "kzoyeXHOy80N"
      },
      "source": [
        "## **Data preparation**\n",
        "\n",
        "- Print the shape and the array of pixels for the first image in the training dataset.\n",
        "- Normalize the train and the test dataset by dividing by 255.\n",
        "- Print the new shapes of the train and the test dataset.\n",
        "- One-hot encode the target variable."
      ]
    },
    {
      "cell_type": "code",
      "execution_count": null,
      "metadata": {
        "id": "NqndzQXng9rL",
        "colab": {
          "base_uri": "https://localhost:8080/"
        },
        "outputId": "eedebdc4-2231-4b93-e7af-e3399bf50b4f"
      },
      "outputs": [
        {
          "output_type": "stream",
          "name": "stdout",
          "text": [
            "Shape of the first image:  (32, 32) \n",
            "Array of pixels for the first image of the training dataset:  [[ 33.0704  30.2601  26.852  ...  71.4471  58.2204  42.9939]\n",
            " [ 25.2283  25.5533  29.9765 ... 113.0209 103.3639  84.2949]\n",
            " [ 26.2775  22.6137  40.4763 ... 113.3028 121.775  115.4228]\n",
            " ...\n",
            " [ 28.5502  36.212   45.0801 ...  24.1359  25.0927  26.0603]\n",
            " [ 38.4352  26.4733  23.2717 ...  28.1094  29.4683  30.0661]\n",
            " [ 50.2984  26.0773  24.0389 ...  49.6682  50.853   53.0377]]\n"
          ]
        }
      ],
      "source": [
        "print('Shape of the first image: ', X_train[0].shape, '\\n' \\\n",
        "      'Array of pixels for the first image of the training dataset: ', X_train[0])"
      ]
    },
    {
      "cell_type": "code",
      "source": [
        "# Flattened the 2-D array into 1-D array and Normalize the train and the test dataset by dividing by 255.\n",
        "\n",
        "X_train = X_train.reshape(X_train.shape[0], 1024)\n",
        "X_test = X_test.reshape(X_test.shape[0], 1024)\n",
        "\n",
        "print('After reshape for train data:', X_train.shape,'\\n'\\\n",
        "      'After reshape for test data:', X_test.shape)"
      ],
      "metadata": {
        "colab": {
          "base_uri": "https://localhost:8080/"
        },
        "id": "ZQ7AkfKSh-IX",
        "outputId": "9cdba774-2055-4a3f-f6e0-8e0c274136ab"
      },
      "execution_count": null,
      "outputs": [
        {
          "output_type": "stream",
          "name": "stdout",
          "text": [
            "After reshape for train data: (42000, 1024) \n",
            "After reshape for test data: (18000, 1024)\n"
          ]
        }
      ]
    },
    {
      "cell_type": "markdown",
      "metadata": {
        "id": "f4CQkKtQ0XII"
      },
      "source": [
        "### **Normalize the train and the test data**"
      ]
    },
    {
      "cell_type": "code",
      "source": [
        "# Normalize data: convert 0-255 to 0 - 1. Divid X_test and X_train by 255.\n",
        "#Print the new shapes of the train and the test dataset.\n",
        "X_train_norm = X_train/255\n",
        "X_test_norm = X_test / 255\n",
        "\n"
      ],
      "metadata": {
        "id": "JqRmU9V0xkHC"
      },
      "execution_count": null,
      "outputs": []
    },
    {
      "cell_type": "markdown",
      "metadata": {
        "id": "YSlYN6pb8kMY"
      },
      "source": [
        "Print the shapes of Training and Test data"
      ]
    },
    {
      "cell_type": "code",
      "execution_count": null,
      "metadata": {
        "id": "t7FSqOpamWkH",
        "colab": {
          "base_uri": "https://localhost:8080/"
        },
        "outputId": "f67cd3d3-6118-4b58-a7c4-16a9bc13a984"
      },
      "outputs": [
        {
          "output_type": "stream",
          "name": "stdout",
          "text": [
            "Shape of normalized train data: (42000, 1024) y train shape:  (42000,) \n",
            "Shape of normalized  test data: (18000, 1024) ytest shape (18000,)\n"
          ]
        }
      ],
      "source": [
        "print('Shape of normalized train data:', X_train_norm.shape, \\\n",
        "      'y train shape: ', y_train.shape,  '\\n'\\\n",
        "      'Shape of normalized  test data:', X_test_norm.shape, \\\n",
        "      'ytest shape', y_test.shape)"
      ]
    },
    {
      "cell_type": "markdown",
      "metadata": {
        "id": "0uLxXBpz81vk"
      },
      "source": [
        "### **One-hot encode output**"
      ]
    },
    {
      "cell_type": "code",
      "source": [
        "from tensorflow.keras.utils import to_categorical"
      ],
      "metadata": {
        "id": "YnMEdnBo3SDr"
      },
      "execution_count": null,
      "outputs": []
    },
    {
      "cell_type": "code",
      "source": [
        "# Creating one-hot encoded representation of target labels\n",
        "# utility function - https://www.tensorflow.org/api_docs/python/tf/keras/utils/to_categorical\n",
        "# to_categorical() function is also explained in the Neural Networks Module\n",
        "\n",
        "y_train_encoded = tf.keras.utils.to_categorical(y_train)\n",
        "y_test_encoded = tf.keras.utils.to_categorical(y_test)\n"
      ],
      "metadata": {
        "id": "UudYhYLKi2t7"
      },
      "execution_count": null,
      "outputs": []
    },
    {
      "cell_type": "markdown",
      "metadata": {
        "id": "ViqPOTquCF76"
      },
      "source": [
        "**Observation:**\n",
        "We created a one-hot encoded representation for the 10 target classes. Since there are 10 categories in target class and therefore, the output layer should have 10 neurons which will provide us with the probabilities of the input image belonging to each of those 10 classes."
      ]
    },
    {
      "cell_type": "markdown",
      "metadata": {
        "id": "yH-gVrzuByNA"
      },
      "source": [
        "## **Model Building**\n",
        "\n",
        "Now that we have done the data preprocessing, let's build an ANN model.\n",
        "\n",
        "### Fix the seed for random number generators"
      ]
    },
    {
      "cell_type": "code",
      "source": [
        "# Clearing backend\n",
        "# Resets all state generated by Keras. Keras manages a global state, which it uses to implement the Functional model-building API and to uniquify autogenerated layer names.\n",
        "\n",
        "def clear_backend():\n",
        "  backend.clear_session()\n",
        "  print('Backend session clear complete!')"
      ],
      "metadata": {
        "id": "KhD7zxbOgRmp"
      },
      "execution_count": null,
      "outputs": []
    },
    {
      "cell_type": "code",
      "source": [
        "# Method to reset the seed for random number generators in Numpy, Python's Random package, and TensorFlow\n",
        "# to ensure we are able to reproduce these results every time we run the code.\n",
        "def fix_seed_rdm_gen():\n",
        "  np.random.seed(42)\n",
        "  random.seed(42)\n",
        "  tf.random.set_seed(42)\n",
        "  print('Resetting the seed complete!')"
      ],
      "metadata": {
        "id": "MvwEJsjxfEjY"
      },
      "execution_count": null,
      "outputs": []
    },
    {
      "cell_type": "code",
      "execution_count": null,
      "metadata": {
        "id": "BcKRwrGn0XIL"
      },
      "outputs": [],
      "source": [
        "# Fixing the seed for random number generators in Numpy, Python's Random package, and TensorFlow\n",
        "# to ensure we are able to reproduce these results every time we run the code.\n",
        "fix_seed_rdm_gen()"
      ]
    },
    {
      "cell_type": "markdown",
      "metadata": {
        "id": "UJDUoaEj1d6e"
      },
      "source": [
        "### **Model Architecture**\n",
        "- Write a function that returns a sequential model with the following architecture:\n",
        " - First hidden layer with **64 nodes and the relu activation** and the **input shape = (1024, )**\n",
        " - Second hidden layer with **32 nodes and the relu activation**\n",
        " - Output layer with **activation as 'softmax' and number of nodes equal to the number of classes, i.e., 10**\n",
        " - Compile the model with the **loss equal to categorical_crossentropy, optimizer equal to Adam(learning_rate = 0.001), and metric equal to 'accuracy'**. Do not fit the model here, just return the compiled model.\n",
        "- Call the nn_model_1 function and store the model in a new variable.\n",
        "- Print the summary of the model.\n",
        "- Fit on the train data with a **validation split of 0.2, batch size = 128, verbose = 1, and epochs = 20**. Store the model building history to use later for visualization."
      ]
    },
    {
      "cell_type": "markdown",
      "metadata": {
        "id": "A48z6ucF0XIP"
      },
      "source": [
        "### **Build and train an ANN model as per the above mentioned architecture.**"
      ]
    },
    {
      "cell_type": "code",
      "source": [
        "from tensorflow.keras.models import Sequential\n",
        "from tensorflow.keras.layers import Dense, Activation, Flatten\n",
        "from tensorflow.keras.optimizers import Adam\n",
        "from tensorflow.keras.metrics import categorical_crossentropy\n",
        "from keras.engine.training import optimizer"
      ],
      "metadata": {
        "id": "ad1IKhkQ3Lck"
      },
      "execution_count": null,
      "outputs": []
    },
    {
      "cell_type": "code",
      "execution_count": null,
      "metadata": {
        "id": "Cmi81Gr5sqW-"
      },
      "outputs": [],
      "source": [
        "\n",
        "def nn_model_1():\n",
        "  hidden_nodes_1 = 64\n",
        "  hidden_nodes_2 = 32\n",
        "  output_node = 10\n",
        "  hidden_activation_algo = 'relu'\n",
        "  output_activation_algo = 'softmax'\n",
        "  model_nn = Sequential()\n",
        "  model_nn.add(Flatten(input_shape = (1024,)))\n",
        "\n",
        "  #First dense/fully connected layer\n",
        "  model_nn.add(Dense(hidden_nodes_1, activation = hidden_activation_algo))\n",
        "\n",
        "  #Second dense/fully connected layer\n",
        "  model_nn.add(Dense(hidden_nodes_2, activation = hidden_activation_algo))\n",
        "\n",
        "  #Output layer\n",
        "  model_nn.add(Dense(output_node,  activation = output_activation_algo))\n",
        "\n",
        "  #Compile the model\n",
        "  #Before the model is ready for training, the following setting are required\n",
        "  # Optimizer — Used for updating the model based on the input data and its loss function.\n",
        "  # Loss function — This measures how accurate the model is during training. You want to minimize this function to \"steer\" the model in the right direction.\n",
        "  # Metrics — Used to monitor the training and testing steps.\n",
        "\n",
        "  model_1.compile(optimizer = Adam(learning_rate=0.001),\\\n",
        "                   loss = 'categorical_crossentropy',\\\n",
        "                   metrics =['accuracy'])\n",
        "\n",
        "  return model_nn\n"
      ]
    },
    {
      "cell_type": "code",
      "source": [
        "#Create a model_1 with the following:\n",
        "\n",
        "model_1 = nn_model_1()\n",
        "\n",
        "#Summary\n",
        "model_1.summary()"
      ],
      "metadata": {
        "colab": {
          "base_uri": "https://localhost:8080/"
        },
        "id": "g3sE8mUzeqDX",
        "outputId": "9ca6716f-643d-43c3-84fc-2473040988bf"
      },
      "execution_count": null,
      "outputs": [
        {
          "output_type": "stream",
          "name": "stdout",
          "text": [
            "Model: \"sequential\"\n",
            "_________________________________________________________________\n",
            " Layer (type)                Output Shape              Param #   \n",
            "=================================================================\n",
            " flatten (Flatten)           (None, 1024)              0         \n",
            "                                                                 \n",
            " dense (Dense)               (None, 64)                65600     \n",
            "                                                                 \n",
            " dense_1 (Dense)             (None, 32)                2080      \n",
            "                                                                 \n",
            " dense_2 (Dense)             (None, 10)                330       \n",
            "                                                                 \n",
            "=================================================================\n",
            "Total params: 68,010\n",
            "Trainable params: 68,010\n",
            "Non-trainable params: 0\n",
            "_________________________________________________________________\n"
          ]
        }
      ]
    },
    {
      "cell_type": "markdown",
      "source": [
        "*Observations:*\n",
        "\n",
        "**- Flatten Layer:**\n",
        "The input shape to the layer is (1024). It does not have any parameters, so the number of parameters is 0.\n",
        "\n",
        "**- Fully Connected First Dense Layer:**\n",
        "Number of neurons: 64\n",
        "Number of parameters: (1024x64)+(1x64): 65,536 + 64 = 65,600\n",
        "\n",
        "[*Number of neurons in current layer x number of neurons in the previous layer + 1 x number of neurons in current layer(Bias)*]\n",
        "\n",
        "\n",
        "**- Fully Connected Second Dense Layer:**\n",
        "Number of neurons: 32\n",
        "Number of parameters: (1024x32)+(1x32): 2048 + 32 = 2080\n",
        "\n",
        "[*Number of neurons in current layer x number of neurons in the previous layer + 1 x number of neurons in current layer(Bias)*]\n",
        "\n",
        "\n",
        "**- Output Layer:**\n",
        "Number of neurons: 10\n",
        "Number of parameters: (10x 32)+(1x10) = 330\n",
        "\n",
        "[*Number of neurons in current layer x number of neurons in the previous layer( Here in the previous dense layer: 100) + 1 x number of neurons in current layer(Bias)*]"
      ],
      "metadata": {
        "id": "PtHl5zlAwfY2"
      }
    },
    {
      "cell_type": "markdown",
      "source": [
        "***Fitting the ANN Model on the train data.***"
      ],
      "metadata": {
        "id": "7IB7kvg-1Tro"
      }
    },
    {
      "cell_type": "code",
      "source": [
        "#Train the model\n",
        "#The following parameter were used to train data:\n",
        "#validation split of 0.2,\n",
        "#batch size = 128, verbose = 1, and epochs = 20.\n",
        "#The output is stored the model building history to use later for visualization.\n",
        "\n",
        "history_1 = model_1.fit(X_train_norm, y_train_encoded,\\\n",
        "            epochs=20,\\\n",
        "            validation_split=0.2,\\\n",
        "           # shuffle=True,\n",
        "            batch_size=128,\\\n",
        "            verbose=1)"
      ],
      "metadata": {
        "colab": {
          "base_uri": "https://localhost:8080/"
        },
        "id": "s8GchdG8gYd0",
        "outputId": "b29b0945-c809-4a9d-fed0-5738fa9d6b38"
      },
      "execution_count": null,
      "outputs": [
        {
          "output_type": "stream",
          "name": "stdout",
          "text": [
            "Epoch 1/20\n",
            "263/263 [==============================] - 3s 6ms/step - loss: 2.2934 - accuracy: 0.1233 - val_loss: 2.2324 - val_accuracy: 0.1744\n",
            "Epoch 2/20\n",
            "263/263 [==============================] - 1s 5ms/step - loss: 2.0774 - accuracy: 0.2509 - val_loss: 1.9318 - val_accuracy: 0.3089\n",
            "Epoch 3/20\n",
            "263/263 [==============================] - 1s 6ms/step - loss: 1.8679 - accuracy: 0.3405 - val_loss: 1.7779 - val_accuracy: 0.3869\n",
            "Epoch 4/20\n",
            "263/263 [==============================] - 1s 5ms/step - loss: 1.6573 - accuracy: 0.4391 - val_loss: 1.5288 - val_accuracy: 0.4907\n",
            "Epoch 5/20\n",
            "263/263 [==============================] - 1s 5ms/step - loss: 1.4635 - accuracy: 0.5180 - val_loss: 1.4202 - val_accuracy: 0.5255\n",
            "Epoch 6/20\n",
            "263/263 [==============================] - 1s 5ms/step - loss: 1.3588 - accuracy: 0.5568 - val_loss: 1.3240 - val_accuracy: 0.5768\n",
            "Epoch 7/20\n",
            "263/263 [==============================] - 1s 5ms/step - loss: 1.2895 - accuracy: 0.5839 - val_loss: 1.2558 - val_accuracy: 0.6013\n",
            "Epoch 8/20\n",
            "263/263 [==============================] - 2s 7ms/step - loss: 1.2375 - accuracy: 0.6044 - val_loss: 1.2217 - val_accuracy: 0.6221\n",
            "Epoch 9/20\n",
            "263/263 [==============================] - 2s 7ms/step - loss: 1.1990 - accuracy: 0.6206 - val_loss: 1.1674 - val_accuracy: 0.6330\n",
            "Epoch 10/20\n",
            "263/263 [==============================] - 2s 7ms/step - loss: 1.1666 - accuracy: 0.6334 - val_loss: 1.1484 - val_accuracy: 0.6420\n",
            "Epoch 11/20\n",
            "263/263 [==============================] - 2s 8ms/step - loss: 1.1465 - accuracy: 0.6399 - val_loss: 1.1256 - val_accuracy: 0.6462\n",
            "Epoch 12/20\n",
            "263/263 [==============================] - 2s 7ms/step - loss: 1.1239 - accuracy: 0.6485 - val_loss: 1.1110 - val_accuracy: 0.6533\n",
            "Epoch 13/20\n",
            "263/263 [==============================] - 1s 5ms/step - loss: 1.1017 - accuracy: 0.6589 - val_loss: 1.0951 - val_accuracy: 0.6612\n",
            "Epoch 14/20\n",
            "263/263 [==============================] - 1s 5ms/step - loss: 1.0981 - accuracy: 0.6596 - val_loss: 1.0940 - val_accuracy: 0.6620\n",
            "Epoch 15/20\n",
            "263/263 [==============================] - 1s 5ms/step - loss: 1.0854 - accuracy: 0.6636 - val_loss: 1.0948 - val_accuracy: 0.6650\n",
            "Epoch 16/20\n",
            "263/263 [==============================] - 1s 5ms/step - loss: 1.0715 - accuracy: 0.6682 - val_loss: 1.1295 - val_accuracy: 0.6475\n",
            "Epoch 17/20\n",
            "263/263 [==============================] - 1s 5ms/step - loss: 1.0626 - accuracy: 0.6713 - val_loss: 1.0618 - val_accuracy: 0.6744\n",
            "Epoch 18/20\n",
            "263/263 [==============================] - 1s 5ms/step - loss: 1.0535 - accuracy: 0.6746 - val_loss: 1.0626 - val_accuracy: 0.6702\n",
            "Epoch 19/20\n",
            "263/263 [==============================] - 1s 5ms/step - loss: 1.0486 - accuracy: 0.6745 - val_loss: 1.0610 - val_accuracy: 0.6736\n",
            "Epoch 20/20\n",
            "263/263 [==============================] - 2s 6ms/step - loss: 1.0420 - accuracy: 0.6770 - val_loss: 1.0535 - val_accuracy: 0.6745\n"
          ]
        }
      ]
    },
    {
      "cell_type": "markdown",
      "source": [
        "Notes:\n",
        "With each Epoch the loss value is decreasing which indicates model is making accurate prediction on the train data. As observed, accuracy and validation accuracy increasing and at the end of iteration these two values are approximately the same 67%.\n",
        "\n",
        "*loss*: this is the value of the cost function for training data."
      ],
      "metadata": {
        "id": "LbNyV-pLZlDs"
      }
    },
    {
      "cell_type": "markdown",
      "metadata": {
        "id": "MeF8XSWz0XIU"
      },
      "source": [
        "### **Plot the Training and Validation Accuracies and write down your Observations.**"
      ]
    },
    {
      "cell_type": "code",
      "execution_count": null,
      "metadata": {
        "id": "lt77zgGMP4yw",
        "colab": {
          "base_uri": "https://localhost:8080/",
          "height": 472
        },
        "outputId": "244e9e6e-b351-4cae-9542-b2f601339377"
      },
      "outputs": [
        {
          "output_type": "display_data",
          "data": {
            "text/plain": [
              "<Figure size 640x480 with 1 Axes>"
            ],
            "image/png": "[encoded data removed]"
          },
          "metadata": {}
        }
      ],
      "source": [
        "#Graph here for ANN Model 1\n",
        "plt.plot(history_1.history['accuracy'])\n",
        "plt.plot(history_1.history['val_accuracy'])\n",
        "plt.title('Accuracy vs Epochs')\n",
        "plt.ylabel('Accuracy')\n",
        "plt.xlabel('Epoch')\n",
        "plt.legend(['Train', 'Validation'], loc='lower right')\n",
        "plt.show()"
      ]
    },
    {
      "cell_type": "markdown",
      "metadata": {
        "id": "pGBbQpLONX7k"
      },
      "source": [
        "**Observations:_______**\n",
        "\n",
        "Th above plot that the model has perfomed well on the train and validation data, with a validation accuracy of 69%. We can modify the model to bring up the accuracy rate."
      ]
    },
    {
      "cell_type": "markdown",
      "metadata": {
        "id": "z0qgLMBZm5-K"
      },
      "source": [
        "Let's build one more model with higher complexity and see if we can improve the performance of the model.\n",
        "\n",
        "First, we need to clear the previous model's history from the Keras backend. Also, let's fix the seed again after clearing the backend."
      ]
    },
    {
      "cell_type": "code",
      "execution_count": null,
      "metadata": {
        "id": "I_ih3wEU9wIk"
      },
      "outputs": [],
      "source": [
        "from tensorflow.keras import backend\n",
        "backend.clear_session()"
      ]
    },
    {
      "cell_type": "code",
      "source": [
        "# Resetting the seed for random number generators in Numpy, Python's Random package, and TensorFlow\n",
        "# to ensure we are able to reproduce these results every time we run the code.\n",
        "import random\n",
        "np.random.seed(42)\n",
        "random.seed(42)\n",
        "tf.random.set_seed(42)"
      ],
      "metadata": {
        "id": "YTRyCUuxFBmB"
      },
      "execution_count": null,
      "outputs": []
    },
    {
      "cell_type": "code",
      "source": [
        "from tensorflow.keras.layers import Dropout, BatchNormalization"
      ],
      "metadata": {
        "id": "9cmz1OG0GxCi"
      },
      "execution_count": null,
      "outputs": []
    },
    {
      "cell_type": "markdown",
      "metadata": {
        "id": "lT6o3TIKuCtk"
      },
      "source": [
        "### **Second Model Architecture**\n",
        "- Write a function that returns a sequential model with the following architecture:\n",
        " - First hidden layer with **256 nodes and the relu activation** and the **input shape = (1024, )**\n",
        " - Second hidden layer with **128 nodes and the relu activation**\n",
        " - Add the **Dropout layer with the rate equal to 0.2**\n",
        " - Third hidden layer with **64 nodes and the relu activation**\n",
        " - Fourth hidden layer with **64 nodes and the relu activation**\n",
        " - Fifth hidden layer with **32 nodes and the relu activation**\n",
        " - Add the **BatchNormalization layer**\n",
        " - Output layer with **activation as 'softmax' and number of nodes equal to the number of classes, i.e., 10**\n",
        " -Compile the model with the **loss equal to categorical_crossentropy, optimizer equal to Adam(learning_rate = 0.0005), and metric equal to 'accuracy'**. Do not fit the model here, just return the compiled model.\n",
        "- Call the nn_model_2 function and store the model in a new variable.\n",
        "- Print the summary of the model.\n",
        "- Fit on the train data with a **validation split of 0.2, batch size = 128, verbose = 1, and epochs = 30**. Store the model building history to use later for visualization."
      ]
    },
    {
      "cell_type": "markdown",
      "metadata": {
        "id": "f-ZjNBmH0XIV"
      },
      "source": [
        "### **Build and train the new ANN model as per the above mentioned architecture**"
      ]
    },
    {
      "cell_type": "code",
      "source": [
        "def nn_model_2():\n",
        "\n",
        "  hidden_nodes_1 = 256\n",
        "  hidden_nodes_2 = 128\n",
        "  hidden_nodes_3 = 64\n",
        "  hidden_nodes_4 = 64\n",
        "  hidden_nodes_5 = 32\n",
        "  output_node = 10\n",
        "  drop_out = 0.2\n",
        "  hidden_activation_algo = 'relu'\n",
        "  output_activation_algo = 'softmax'\n",
        "  model_nn = Sequential()\n",
        "  model_nn.add(Flatten(input_shape = (1024,)))\n",
        "\n",
        "  #First dense/fully connected layer\n",
        "  model_nn.add(Dense(hidden_nodes_1, activation = hidden_activation_algo))\n",
        "\n",
        "  #Second dense/fully connected layer\n",
        "  model_nn.add(Dense(hidden_nodes_2, activation = hidden_activation_algo))\n",
        "\n",
        "  # We will be switching 20% of neurons off randomly at each iteration to avoid overfitting\n",
        "  model_nn.add(Dropout(drop_out))\n",
        "\n",
        " #Third dense/fully connected layer\n",
        "  model_nn.add(Dense(hidden_nodes_3, activation = hidden_activation_algo))\n",
        "\n",
        " #Fourth dense/fully connected layer\n",
        "  model_nn.add(Dense(hidden_nodes_4, activation = hidden_activation_algo))\n",
        "\n",
        " #Fifth dense/fully connected layer\n",
        "  model_nn.add(Dense(hidden_nodes_5, activation = hidden_activation_algo))\n",
        "\n",
        "  model_nn.add(BatchNormalization())\n",
        "\n",
        "  #Output layer\n",
        "  model_nn.add(Dense(output_node,  activation = output_activation_algo))\n",
        "\n",
        "  #Compile the model\n",
        "  #Before the model is ready for training, the following setting are required\n",
        "  # Optimizer — Used for updating the model based on the input data and its loss function.\n",
        "  # Loss function — This measures how accurate the model is during training. You want to minimize this function to \"steer\" the model in the right direction.\n",
        "  # Metrics — Used to monitor the training and testing steps.\n",
        "\n",
        "  model_2.compile(optimizer = Adam(learning_rate=0.0005),\\\n",
        "                   loss = 'categorical_crossentropy',\\\n",
        "                   metrics =['accuracy'])\n",
        "\n",
        "  return model_nn"
      ],
      "metadata": {
        "id": "7utqarSTdkZu"
      },
      "execution_count": null,
      "outputs": []
    },
    {
      "cell_type": "code",
      "execution_count": null,
      "metadata": {
        "id": "EEPYLFIPnSDP",
        "colab": {
          "base_uri": "https://localhost:8080/"
        },
        "outputId": "4e9d3abb-cfea-4a45-ca2b-f34a5b9609b0"
      },
      "outputs": [
        {
          "output_type": "stream",
          "name": "stdout",
          "text": [
            "Model: \"sequential\"\n",
            "_________________________________________________________________\n",
            " Layer (type)                Output Shape              Param #   \n",
            "=================================================================\n",
            " flatten (Flatten)           (None, 1024)              0         \n",
            "                                                                 \n",
            " dense (Dense)               (None, 256)               262400    \n",
            "                                                                 \n",
            " dense_1 (Dense)             (None, 128)               32896     \n",
            "                                                                 \n",
            " dropout (Dropout)           (None, 128)               0         \n",
            "                                                                 \n",
            " dense_2 (Dense)             (None, 64)                8256      \n",
            "                                                                 \n",
            " dense_3 (Dense)             (None, 64)                4160      \n",
            "                                                                 \n",
            " dense_4 (Dense)             (None, 32)                2080      \n",
            "                                                                 \n",
            " dense_5 (Dense)             (None, 10)                330       \n",
            "                                                                 \n",
            "=================================================================\n",
            "Total params: 310,122\n",
            "Trainable params: 310,122\n",
            "Non-trainable params: 0\n",
            "_________________________________________________________________\n"
          ]
        }
      ],
      "source": [
        "#Create a model_2\n",
        "\n",
        "model_2 = nn_model_2()\n",
        "model_2.summary()"
      ]
    },
    {
      "cell_type": "code",
      "source": [
        "#Train the model - Fit on the train data with:\n",
        "#validation split of 0.2,\n",
        "#batch size = 128, verbose = 1, and epochs = 30.\n",
        "#The output is stored the model building history to use later for visualization.\n",
        "\n",
        "history_2 = model_2.fit(X_train_norm, y_train_encoded,\\\n",
        "            epochs=30,\\\n",
        "            validation_split=0.2,\\\n",
        "           # shuffle=True,\n",
        "            batch_size=128,\\\n",
        "            verbose=1)"
      ],
      "metadata": {
        "colab": {
          "base_uri": "https://localhost:8080/"
        },
        "id": "vScy6YE2Iqf3",
        "outputId": "8b2cd67c-75b3-42f6-ae41-e6ddd7923ae8"
      },
      "execution_count": null,
      "outputs": [
        {
          "output_type": "stream",
          "name": "stdout",
          "text": [
            "Epoch 1/30\n",
            "263/263 [==============================] - 6s 17ms/step - loss: 2.3046 - accuracy: 0.1014 - val_loss: 2.3030 - val_accuracy: 0.0977\n",
            "Epoch 2/30\n",
            "263/263 [==============================] - 5s 18ms/step - loss: 2.3022 - accuracy: 0.1024 - val_loss: 2.2970 - val_accuracy: 0.1187\n",
            "Epoch 3/30\n",
            "263/263 [==============================] - 6s 21ms/step - loss: 2.2047 - accuracy: 0.1503 - val_loss: 2.0211 - val_accuracy: 0.2151\n",
            "Epoch 4/30\n",
            "263/263 [==============================] - 5s 20ms/step - loss: 1.9280 - accuracy: 0.2607 - val_loss: 1.7875 - val_accuracy: 0.3311\n",
            "Epoch 5/30\n",
            "263/263 [==============================] - 7s 25ms/step - loss: 1.7044 - accuracy: 0.3752 - val_loss: 1.5457 - val_accuracy: 0.4646\n",
            "Epoch 6/30\n",
            "263/263 [==============================] - 7s 26ms/step - loss: 1.5134 - accuracy: 0.4800 - val_loss: 1.4082 - val_accuracy: 0.5293\n",
            "Epoch 7/30\n",
            "263/263 [==============================] - 6s 21ms/step - loss: 1.4000 - accuracy: 0.5268 - val_loss: 1.3338 - val_accuracy: 0.5520\n",
            "Epoch 8/30\n",
            "263/263 [==============================] - 9s 33ms/step - loss: 1.3180 - accuracy: 0.5595 - val_loss: 1.2360 - val_accuracy: 0.5999\n",
            "Epoch 9/30\n",
            "263/263 [==============================] - 8s 31ms/step - loss: 1.2670 - accuracy: 0.5804 - val_loss: 1.2000 - val_accuracy: 0.6050\n",
            "Epoch 10/30\n",
            "263/263 [==============================] - 6s 24ms/step - loss: 1.2190 - accuracy: 0.5985 - val_loss: 1.2114 - val_accuracy: 0.5976\n",
            "Epoch 11/30\n",
            "263/263 [==============================] - 6s 24ms/step - loss: 1.1806 - accuracy: 0.6118 - val_loss: 1.1408 - val_accuracy: 0.6310\n",
            "Epoch 12/30\n",
            "263/263 [==============================] - 7s 27ms/step - loss: 1.1508 - accuracy: 0.6259 - val_loss: 1.1159 - val_accuracy: 0.6315\n",
            "Epoch 13/30\n",
            "263/263 [==============================] - 6s 22ms/step - loss: 1.1099 - accuracy: 0.6400 - val_loss: 1.0913 - val_accuracy: 0.6421\n",
            "Epoch 14/30\n",
            "263/263 [==============================] - 5s 21ms/step - loss: 1.0859 - accuracy: 0.6491 - val_loss: 1.0599 - val_accuracy: 0.6588\n",
            "Epoch 15/30\n",
            "263/263 [==============================] - 5s 19ms/step - loss: 1.0529 - accuracy: 0.6617 - val_loss: 1.0310 - val_accuracy: 0.6600\n",
            "Epoch 16/30\n",
            "263/263 [==============================] - 5s 18ms/step - loss: 1.0329 - accuracy: 0.6688 - val_loss: 1.0867 - val_accuracy: 0.6417\n",
            "Epoch 17/30\n",
            "263/263 [==============================] - 3s 12ms/step - loss: 1.0078 - accuracy: 0.6793 - val_loss: 0.9793 - val_accuracy: 0.6879\n",
            "Epoch 18/30\n",
            "263/263 [==============================] - 3s 11ms/step - loss: 0.9866 - accuracy: 0.6844 - val_loss: 0.9698 - val_accuracy: 0.6888\n",
            "Epoch 19/30\n",
            "263/263 [==============================] - 3s 12ms/step - loss: 0.9680 - accuracy: 0.6915 - val_loss: 0.9522 - val_accuracy: 0.6945\n",
            "Epoch 20/30\n",
            "263/263 [==============================] - 4s 16ms/step - loss: 0.9514 - accuracy: 0.6985 - val_loss: 0.9039 - val_accuracy: 0.7123\n",
            "Epoch 21/30\n",
            "263/263 [==============================] - 4s 17ms/step - loss: 0.9309 - accuracy: 0.7048 - val_loss: 0.9404 - val_accuracy: 0.6981\n",
            "Epoch 22/30\n",
            "263/263 [==============================] - 4s 14ms/step - loss: 0.9190 - accuracy: 0.7081 - val_loss: 0.8917 - val_accuracy: 0.7161\n",
            "Epoch 23/30\n",
            "263/263 [==============================] - 3s 12ms/step - loss: 0.9060 - accuracy: 0.7136 - val_loss: 0.9190 - val_accuracy: 0.7065\n",
            "Epoch 24/30\n",
            "263/263 [==============================] - 3s 11ms/step - loss: 0.8849 - accuracy: 0.7204 - val_loss: 0.8390 - val_accuracy: 0.7326\n",
            "Epoch 25/30\n",
            "263/263 [==============================] - 3s 13ms/step - loss: 0.8788 - accuracy: 0.7240 - val_loss: 0.8452 - val_accuracy: 0.7320\n",
            "Epoch 26/30\n",
            "263/263 [==============================] - 5s 18ms/step - loss: 0.8619 - accuracy: 0.7272 - val_loss: 0.8558 - val_accuracy: 0.7250\n",
            "Epoch 27/30\n",
            "263/263 [==============================] - 4s 17ms/step - loss: 0.8496 - accuracy: 0.7332 - val_loss: 0.8387 - val_accuracy: 0.7333\n",
            "Epoch 28/30\n",
            "263/263 [==============================] - 3s 11ms/step - loss: 0.8425 - accuracy: 0.7358 - val_loss: 0.8347 - val_accuracy: 0.7358\n",
            "Epoch 29/30\n",
            "263/263 [==============================] - 3s 11ms/step - loss: 0.8396 - accuracy: 0.7353 - val_loss: 0.8309 - val_accuracy: 0.7362\n",
            "Epoch 30/30\n",
            "263/263 [==============================] - 3s 13ms/step - loss: 0.8259 - accuracy: 0.7379 - val_loss: 0.8340 - val_accuracy: 0.7342\n"
          ]
        }
      ]
    },
    {
      "cell_type": "markdown",
      "metadata": {
        "id": "ZJYsvjmw0XIX"
      },
      "source": [
        "### **Plot the Training and Validation Accuracies and write down your Observations.**"
      ]
    },
    {
      "cell_type": "code",
      "execution_count": null,
      "metadata": {
        "id": "01ig6BrF1KVy",
        "colab": {
          "base_uri": "https://localhost:8080/",
          "height": 472
        },
        "outputId": "f469188d-aa3d-4b2d-c7bc-974875ddba82"
      },
      "outputs": [
        {
          "output_type": "display_data",
          "data": {
            "text/plain": [
              "<Figure size 640x480 with 1 Axes>"
            ],
            "image/png": "[encoded data removed]"
          },
          "metadata": {}
        }
      ],
      "source": [
        "#Graph here for Model 2\n",
        "plt.plot(history_2.history['accuracy'])\n",
        "plt.plot(history_2.history['val_accuracy'])\n",
        "plt.title('Accuracy vs Epochs (Model-2)')\n",
        "plt.ylabel('Accuracy')\n",
        "plt.xlabel('Epoch')\n",
        "plt.legend(['Train', 'Validation'], loc='lower right')\n",
        "plt.show()"
      ]
    },
    {
      "cell_type": "markdown",
      "metadata": {
        "id": "VPW1LlD61RDn"
      },
      "source": [
        "**Observations:_______**\n",
        "\n",
        "The above plot shows that the model has perfomed well on the train and validation data, with a validation accuracy of 72%, which is better than model 1. Addition of 3 more dense layer, regularization using Dropout and adding BatchNormalziation improved the accuracy rate."
      ]
    },
    {
      "cell_type": "markdown",
      "metadata": {
        "id": "8kuXx9Bvu00f"
      },
      "source": [
        "## **Predictions on the test data**\n",
        "\n",
        "- Make predictions on the test set using the second model.\n",
        "- Print the obtained results using the classification report and the confusion matrix.\n",
        "- Final observations on the obtained results."
      ]
    },
    {
      "cell_type": "code",
      "execution_count": null,
      "metadata": {
        "id": "xbWMEtTj5Ad0",
        "colab": {
          "base_uri": "https://localhost:8080/"
        },
        "outputId": "3abba48b-d994-4383-be4c-7d9a17831d02"
      },
      "outputs": [
        {
          "output_type": "stream",
          "name": "stdout",
          "text": [
            "563/563 [==============================] - 2s 3ms/step\n"
          ]
        }
      ],
      "source": [
        "#Prediction based on model_2\n",
        "test_pred = model_2.predict(X_test_norm)\n",
        "\n",
        "#convert each entry of y_test to a single label from one-hot encoded\n",
        "test_pred = np.argmax(test_pred, axis = -1)"
      ]
    },
    {
      "cell_type": "markdown",
      "metadata": {
        "id": "i3li8Ib08yts"
      },
      "source": [
        "**Note:** Earlier, we noticed that each entry of the target variable is a one-hot encoded vector but to print the classification report and confusion matrix, we must convert each entry of y_test to a single label."
      ]
    },
    {
      "cell_type": "markdown",
      "metadata": {
        "id": "1_SIoopr0XIg"
      },
      "source": [
        "### **Print the classification report and the confusion matrix for the test predictions. Write your observations on the final results.**"
      ]
    },
    {
      "cell_type": "code",
      "execution_count": null,
      "metadata": {
        "id": "xRddeJ-3EHT1",
        "colab": {
          "base_uri": "https://localhost:8080/",
          "height": 760
        },
        "outputId": "cbf220ab-8f56-447c-ec94-18488d4cac12"
      },
      "outputs": [
        {
          "output_type": "stream",
          "name": "stdout",
          "text": [
            "              precision    recall  f1-score   support\n",
            "\n",
            "           0       0.82      0.70      0.75      1814\n",
            "           1       0.77      0.73      0.75      1828\n",
            "           2       0.73      0.76      0.74      1803\n",
            "           3       0.71      0.66      0.68      1719\n",
            "           4       0.62      0.87      0.72      1812\n",
            "           5       0.71      0.68      0.69      1768\n",
            "           6       0.73      0.75      0.74      1832\n",
            "           7       0.73      0.77      0.75      1808\n",
            "           8       0.78      0.62      0.69      1812\n",
            "           9       0.71      0.72      0.72      1804\n",
            "\n",
            "    accuracy                           0.72     18000\n",
            "   macro avg       0.73      0.72      0.72     18000\n",
            "weighted avg       0.73      0.72      0.72     18000\n",
            "\n"
          ]
        },
        {
          "output_type": "display_data",
          "data": {
            "text/plain": [
              "<Figure size 1000x500 with 2 Axes>"
            ],
            "image/png": "[encoded data removed]"
          },
          "metadata": {}
        }
      ],
      "source": [
        "from sklearn.metrics import classification_report\n",
        "from sklearn.metrics import confusion_matrix\n",
        "\n",
        "print(classification_report(y_test, test_pred)) # actual value vs. predicted value\n",
        "cm = confusion_matrix(y_test, test_pred)        # Create confusion matrix\n",
        "\n",
        "plt.figure(figsize=(10,5))\n",
        "sns.heatmap(cm, annot=True,  fmt='.0f')\n",
        "plt.ylabel('Actual')\n",
        "plt.xlabel('Predicted')\n",
        "plt.show()"
      ]
    },
    {
      "cell_type": "markdown",
      "metadata": {
        "id": "DjErl4GA2u9s"
      },
      "source": [
        "**Final Observations:__________**\n",
        "\n",
        "We observe that most of the classes are predicted correctly.\n",
        "The most misclassification occurs with the following:\n",
        " - Digits 6, 8 and 9 which are predicted as 4\n",
        " - Digit 3 which is predicted as 5\n",
        " - Digit 2 and 7 which are predicted as 7 and 2 respectively."
      ]
    },
    {
      "cell_type": "markdown",
      "metadata": {
        "id": "xkR4JioMsuIV"
      },
      "source": [
        "## **Using Convolutional Neural Networks**"
      ]
    },
    {
      "cell_type": "markdown",
      "metadata": {
        "id": "YN2YgkGL_6xQ"
      },
      "source": [
        "### **Load the dataset again and split the data into the train and the test dataset.**"
      ]
    },
    {
      "cell_type": "code",
      "execution_count": null,
      "metadata": {
        "id": "mqM204HbAjP2",
        "scrolled": true,
        "colab": {
          "base_uri": "https://localhost:8080/"
        },
        "outputId": "64074810-794a-4920-a91e-c26db4ed12ec"
      },
      "outputs": [
        {
          "output_type": "execute_result",
          "data": {
            "text/plain": [
              "[<HDF5 dataset \"X_test\": shape (18000, 32, 32), type \"<f4\">,\n",
              " <HDF5 dataset \"X_train\": shape (42000, 32, 32), type \"<f4\">,\n",
              " <HDF5 dataset \"X_val\": shape (60000, 32, 32), type \"<f4\">,\n",
              " <HDF5 dataset \"y_test\": shape (18000,), type \"|u1\">,\n",
              " <HDF5 dataset \"y_train\": shape (42000,), type \"|u1\">,\n",
              " <HDF5 dataset \"y_val\": shape (60000,), type \"|u1\">]"
            ]
          },
          "metadata": {},
          "execution_count": 35
        }
      ],
      "source": [
        "# Open the file as read only\n",
        "\n",
        "h5data = h5py.File('/content/drive/MyDrive/MIT-Data Science/Elective Project/SVHN_single_grey1.h5', 'r')\n",
        "\n",
        "list(h5data.values())"
      ]
    },
    {
      "cell_type": "code",
      "source": [
        "# Load the training dataset\n",
        "\n",
        "X_train_cn = h5data['X_train'][:]\n",
        "\n",
        "y_train_cn = h5data['y_train'][:]\n",
        "\n",
        "# Load the test dataset\n",
        "\n",
        "X_test_cn = h5data['X_test'][:]\n",
        "\n",
        "y_test_cn = h5data['y_test'][:]\n",
        "\n",
        "\n",
        "# Close this file\n",
        "\n",
        "h5data.close()"
      ],
      "metadata": {
        "id": "fI9GON3JoM4v"
      },
      "execution_count": null,
      "outputs": []
    },
    {
      "cell_type": "markdown",
      "metadata": {
        "id": "6fPqF_xGAjQB"
      },
      "source": [
        "Check the number of images in the training and the testing dataset."
      ]
    },
    {
      "cell_type": "code",
      "execution_count": null,
      "metadata": {
        "id": "gTLJZWjPAjQB",
        "colab": {
          "base_uri": "https://localhost:8080/"
        },
        "outputId": "a58369d3-4ee9-4db4-b14b-dc7d8d104406"
      },
      "outputs": [
        {
          "output_type": "stream",
          "name": "stdout",
          "text": [
            "Number of images stored in the trining dataset =  42000 \n",
            "Number of images stored in the testing dataset =  18000\n",
            "Additional information on shape of traing dataset =  (42000, 32, 32) \n",
            "Additional information on shape of test dataset =  (18000, 32, 32)\n"
          ]
        }
      ],
      "source": [
        "#number of images in the training and the testing dataset\n",
        "print(\"Number of images stored in the trining dataset = \", len(X_train_cn),'\\n'\\\n",
        "      'Number of images stored in the testing dataset = ', len(X_test_cn))\n",
        "print(\"Additional information on shape of traing dataset = \", X_train_cn.shape, '\\n'\\\n",
        "      \"Additional information on shape of test dataset = \", X_test_cn.shape)"
      ]
    },
    {
      "cell_type": "code",
      "source": [
        "# Plot distribution of each category\n",
        "count_plot = sns.countplot(x=y_train_cn)"
      ],
      "metadata": {
        "id": "w_vXMtwca5Wt",
        "colab": {
          "base_uri": "https://localhost:8080/",
          "height": 430
        },
        "outputId": "fd2b8819-dd59-495d-85a8-4d78f4acc2c6"
      },
      "execution_count": null,
      "outputs": [
        {
          "output_type": "display_data",
          "data": {
            "text/plain": [
              "<Figure size 640x480 with 1 Axes>"
            ],
            "image/png": "[encoded data removed]"
          },
          "metadata": {}
        }
      ]
    },
    {
      "cell_type": "markdown",
      "metadata": {
        "id": "9qyMiP_rAjQB"
      },
      "source": [
        "**Observation:**\n"
      ]
    },
    {
      "cell_type": "markdown",
      "metadata": {
        "id": "OJndFfEVAjQG"
      },
      "source": [
        "## **Data preparation**\n",
        "\n",
        "- Print the shape and the array of pixels for the first image in the training dataset.\n",
        "- Reshape the train and the test dataset because we always have to give a 4D array as input to CNNs.\n",
        "- Normalize the train and the test dataset by dividing by 255.\n",
        "- Print the new shapes of the train and the test dataset.\n",
        "- One-hot encode the target variable."
      ]
    },
    {
      "cell_type": "code",
      "execution_count": null,
      "metadata": {
        "id": "W4uXqKz1AjQG",
        "colab": {
          "base_uri": "https://localhost:8080/"
        },
        "outputId": "ed76b537-35fb-4336-f0d4-9354cc88a472"
      },
      "outputs": [
        {
          "output_type": "stream",
          "name": "stdout",
          "text": [
            "Shape information of training dataset =  (32, 32)\n",
            "Array of pixels for the first imaage in training dataset = [[ 33.0704  30.2601  26.852  ...  71.4471  58.2204  42.9939]\n",
            " [ 25.2283  25.5533  29.9765 ... 113.0209 103.3639  84.2949]\n",
            " [ 26.2775  22.6137  40.4763 ... 113.3028 121.775  115.4228]\n",
            " ...\n",
            " [ 28.5502  36.212   45.0801 ...  24.1359  25.0927  26.0603]\n",
            " [ 38.4352  26.4733  23.2717 ...  28.1094  29.4683  30.0661]\n",
            " [ 50.2984  26.0773  24.0389 ...  49.6682  50.853   53.0377]]\n"
          ]
        }
      ],
      "source": [
        "print(\"Shape information of training dataset = \", X_train_cn[0].shape)\n",
        "print('Array of pixels for the first imaage in training dataset =', X_train_cn[0])"
      ]
    },
    {
      "cell_type": "markdown",
      "metadata": {
        "id": "at30iiX1__7F"
      },
      "source": [
        "Reshape the dataset to be able to pass them to CNNs. Remember that we always have to give a 4D array as input to CNNs"
      ]
    },
    {
      "cell_type": "code",
      "execution_count": null,
      "metadata": {
        "id": "D9YPwf9ysqWU"
      },
      "outputs": [],
      "source": [
        "X_train_cn = X_train_cn.reshape(X_train.shape[0], 32, 32, 1)\n",
        "\n",
        "X_test_cn = X_test_cn.reshape(X_test.shape[0], 32, 32, 1)"
      ]
    },
    {
      "cell_type": "markdown",
      "metadata": {
        "id": "ODYnoLfaAEGx"
      },
      "source": [
        "Normalize inputs from 0-255 to 0-1"
      ]
    },
    {
      "cell_type": "code",
      "execution_count": null,
      "metadata": {
        "id": "eOGLAn40AjQG"
      },
      "outputs": [],
      "source": [
        "X_train_cn_norm = X_train_cn/255\n",
        "X_test_cn_norm = X_test_cn/255"
      ]
    },
    {
      "cell_type": "markdown",
      "metadata": {
        "id": "cS9T4HqjAoyM"
      },
      "source": [
        "Print New shape of Training and Test"
      ]
    },
    {
      "cell_type": "code",
      "execution_count": null,
      "metadata": {
        "id": "5qf8S5NQAjQG",
        "colab": {
          "base_uri": "https://localhost:8080/"
        },
        "outputId": "8faab196-6ecb-43e3-862d-afcf8f6b3ddf"
      },
      "outputs": [
        {
          "output_type": "stream",
          "name": "stdout",
          "text": [
            "Shape information of normalized Training dataset =  (42000, 32, 32, 1) (42000,)\n",
            "Shape information of normalized Testing dataset =  (18000, 32, 32, 1) (18000,)\n",
            "Array of pixels for the first image in normalized training dataset = [[[0.12968785]\n",
            "  [0.11866706]\n",
            "  [0.10530196]\n",
            "  ...\n",
            "  [0.2801847 ]\n",
            "  [0.2283153 ]\n",
            "  [0.16860352]]\n",
            "\n",
            " [[0.09893451]\n",
            "  [0.10020902]\n",
            "  [0.1175549 ]\n",
            "  ...\n",
            "  [0.4432192 ]\n",
            "  [0.40534863]\n",
            "  [0.33056822]]\n",
            "\n",
            " [[0.10304902]\n",
            "  [0.08868118]\n",
            "  [0.15873058]\n",
            "  ...\n",
            "  [0.44432473]\n",
            "  [0.47754902]\n",
            "  [0.45263842]]\n",
            "\n",
            " ...\n",
            "\n",
            " [[0.11196157]\n",
            "  [0.14200786]\n",
            "  [0.17678471]\n",
            "  ...\n",
            "  [0.09465059]\n",
            "  [0.09840274]\n",
            "  [0.10219726]]\n",
            "\n",
            " [[0.15072627]\n",
            "  [0.10381687]\n",
            "  [0.09126157]\n",
            "  ...\n",
            "  [0.11023294]\n",
            "  [0.11556196]\n",
            "  [0.11790627]]\n",
            "\n",
            " [[0.19724864]\n",
            "  [0.10226392]\n",
            "  [0.0942702 ]\n",
            "  ...\n",
            "  [0.19477727]\n",
            "  [0.19942354]\n",
            "  [0.20799099]]]\n"
          ]
        }
      ],
      "source": [
        "print(\"Shape information of normalized Training dataset = \", X_train_cn_norm.shape, y_train_cn.shape)\n",
        "print(\"Shape information of normalized Testing dataset = \", X_test_cn_norm.shape, y_test_cn.shape)\n",
        "print('Array of pixels for the first image in normalized training dataset =', X_train_cn_norm[0])"
      ]
    },
    {
      "cell_type": "markdown",
      "metadata": {
        "id": "10QaOV-xR7Jn"
      },
      "source": [
        "### **One-hot encode the labels in the target variable y_train and y_test.**"
      ]
    },
    {
      "cell_type": "code",
      "execution_count": null,
      "metadata": {
        "id": "3KHWFWKMAjQH",
        "colab": {
          "base_uri": "https://localhost:8080/"
        },
        "outputId": "2e41152a-ddeb-451c-9f74-cce8aaa66922"
      },
      "outputs": [
        {
          "output_type": "stream",
          "name": "stdout",
          "text": [
            "Shape of Target Train and Test data:  (42000, 10) (18000, 10)\n",
            "Value of Train data in index[0]: 2\n",
            "Value of encoded Train data in index[0] [0. 0. 1. 0. 0. 0. 0. 0. 0. 0.]\n",
            "Value of Train data in index[1]: 6\n",
            "Value of encoded Train data in index[1] [0. 0. 0. 0. 0. 0. 1. 0. 0. 0.]\n"
          ]
        }
      ],
      "source": [
        "# Creating one-hot encoded representation of target labels\n",
        "# utility function - https://www.tensorflow.org/api_docs/python/tf/keras/utils/to_categorical\n",
        "# to_categorical() function is also explained in the Neural Networks Module\n",
        "\n",
        "y_train_encoded = tf.keras.utils.to_categorical(y_train_cn)\n",
        "y_test_encoded = tf.keras.utils.to_categorical(y_test_cn)\n",
        "\n",
        "print('Shape of Target Train and Test data: ', y_train_encoded.shape, y_test_encoded.shape)\n",
        "for i in range(2):\n",
        "  print(f'Value of Train data in index[{i}]:', y_train_cn[i])\n",
        "  print(f'Value of encoded Train data in index[{i}]', y_train_encoded[i])"
      ]
    },
    {
      "cell_type": "markdown",
      "metadata": {
        "id": "H-8jYVQTAjQH"
      },
      "source": [
        "**Observation:**\n"
      ]
    },
    {
      "cell_type": "markdown",
      "metadata": {
        "id": "Vjx_LI4_AjQH"
      },
      "source": [
        "## **Model Building**\n",
        "\n",
        "Now that we have done data preprocessing, let's build a CNN model.\n",
        "Fix the seed for random number generators"
      ]
    },
    {
      "cell_type": "code",
      "execution_count": null,
      "metadata": {
        "id": "ZY5pyF4-KDNt",
        "colab": {
          "base_uri": "https://localhost:8080/"
        },
        "outputId": "8bae405b-715c-4204-ab82-916932092b56"
      },
      "outputs": [
        {
          "output_type": "stream",
          "name": "stdout",
          "text": [
            "Backend session clear complete!\n",
            "Resetting the seed complete!\n"
          ]
        }
      ],
      "source": [
        "#Reset all state generated by Keras\n",
        "clear_backend()\n",
        "\n",
        "#Call method for Resetting the seed for random number generators in Numpy, Python's Random package, and TensorFlow\n",
        "# to ensure we are able to reproduce these results every time we run the code.\n",
        "fix_seed_rdm_gen()"
      ]
    },
    {
      "cell_type": "markdown",
      "metadata": {
        "id": "1JUAczhzAjQH"
      },
      "source": [
        "### **Model Architecture**\n",
        "- **Write a function** that returns a sequential model with the following architecture:\n",
        " - First Convolutional layer with **16 filters and the kernel size of 3x3**. Use the **'same' padding** and provide the **input shape = (32, 32, 1)**\n",
        " - Add a **LeakyRelu layer** with the **slope equal to 0.1**\n",
        " - Second Convolutional layer with **32 filters and the kernel size of 3x3 with 'same' padding**\n",
        " - Another **LeakyRelu** with the **slope equal to 0.1**\n",
        " - A **max-pooling layer** with a **pool size of 2x2**\n",
        " - **Flatten** the output from the previous layer\n",
        " - Add a **dense layer with 32 nodes**\n",
        " - Add a **LeakyRelu layer with the slope equal to 0.1**\n",
        " - Add the final **output layer with nodes equal to the number of classes, i.e., 10** and **'softmax' as the activation function**\n",
        " - Compile the model with the **loss equal to categorical_crossentropy, optimizer equal to Adam(learning_rate = 0.001), and metric equal to 'accuracy'**. Do not fit the model here, just return the compiled model.\n",
        "- Call the function cnn_model_1 and store the output in a new variable.\n",
        "- Print the summary of the model.\n",
        "- Fit the model on the training data with a **validation split of 0.2, batch size = 32, verbose = 1, and epochs = 20**. Store the model building history to use later for visualization."
      ]
    },
    {
      "cell_type": "code",
      "source": [
        "from tensorflow.keras.layers import Conv2D, LeakyReLU, MaxPooling2D"
      ],
      "metadata": {
        "id": "KWjdyGb2qOUR"
      },
      "execution_count": null,
      "outputs": []
    },
    {
      "cell_type": "markdown",
      "metadata": {
        "id": "JWsAd45JKDNu"
      },
      "source": [
        "### **Build and train a CNN model as per the above mentioned architecture.**"
      ]
    },
    {
      "cell_type": "code",
      "source": [
        "def cnn_model_1():\n",
        "# Adding first conv layer with 16 filters and kernel size 3x3 , padding 'same' provides the output size same as the input size\n",
        "# Input_shape denotes input image dimension of MNIST images\n",
        "  input_shp = (32, 32, 1)\n",
        "  model = Sequential()\n",
        "  #First layer - Convolutional layer with 16 filters and the kernel size of 3x3, and input shape = (32, 32, 1)\n",
        "  model.add(Conv2D(16, (3, 3), padding = 'same',  input_shape=input_shp))\n",
        "\n",
        "  # add LeakyRelu with slope = 0.1\n",
        "  model.add(LeakyReLU(alpha=0.1))\n",
        "\n",
        " #Add Second layer - Convolutional layer with 32 filters and the kernel size of 3x3 with 'same' padding\n",
        "  model.add(Conv2D(32, (3, 3), padding=\"same\"))\n",
        " # add LeakyRelu with slope = 0.1\n",
        "  model.add(LeakyReLU(alpha=0.1))\n",
        "\n",
        "  #Add Max-pooling\n",
        "  model.add(MaxPooling2D(2, 2))\n",
        "\n",
        "# flattening the output of the conv layer after max pooling to make it ready for creating dense connections\n",
        "  model.add(Flatten())\n",
        "\n",
        "#Add a dense layer with 32 nodes\n",
        "  model.add(Dense(32))\n",
        "\n",
        "#Add a LeakyRelu layer with the slope equal to 0.1\n",
        "  model.add(LeakyReLU(alpha=0.1))\n",
        "\n",
        "#Add the final output layer number of classes = 10 and 'softmax' as the activation function\n",
        "  model.add(Dense(10, activation='softmax'))\n",
        "\n",
        "#Compile the model with the loss equal to categorical_crossentropy, optimizer equal to Adam(learning_rate = 0.001), and metric equal to 'accuracy'.\n",
        "  model.compile(optimizer= Adam(learning_rate=0.001), loss='categorical_crossentropy', metrics=['accuracy'])\n",
        "\n",
        "  return model"
      ],
      "metadata": {
        "id": "TfNQEwjriyFg"
      },
      "execution_count": null,
      "outputs": []
    },
    {
      "cell_type": "code",
      "execution_count": null,
      "metadata": {
        "id": "L1jOYANWAjQH",
        "colab": {
          "base_uri": "https://localhost:8080/"
        },
        "outputId": "2925484f-a6e0-473f-db55-27efe7ce78a2"
      },
      "outputs": [
        {
          "output_type": "stream",
          "name": "stdout",
          "text": [
            "Model: \"sequential\"\n",
            "_________________________________________________________________\n",
            " Layer (type)                Output Shape              Param #   \n",
            "=================================================================\n",
            " conv2d (Conv2D)             (None, 32, 32, 16)        160       \n",
            "                                                                 \n",
            " leaky_re_lu (LeakyReLU)     (None, 32, 32, 16)        0         \n",
            "                                                                 \n",
            " conv2d_1 (Conv2D)           (None, 32, 32, 32)        4640      \n",
            "                                                                 \n",
            " leaky_re_lu_1 (LeakyReLU)   (None, 32, 32, 32)        0         \n",
            "                                                                 \n",
            " max_pooling2d (MaxPooling2D  (None, 16, 16, 32)       0         \n",
            " )                                                               \n",
            "                                                                 \n",
            " flatten (Flatten)           (None, 8192)              0         \n",
            "                                                                 \n",
            " dense (Dense)               (None, 32)                262176    \n",
            "                                                                 \n",
            " leaky_re_lu_2 (LeakyReLU)   (None, 32)                0         \n",
            "                                                                 \n",
            " dense_1 (Dense)             (None, 10)                330       \n",
            "                                                                 \n",
            "=================================================================\n",
            "Total params: 267,306\n",
            "Trainable params: 267,306\n",
            "Non-trainable params: 0\n",
            "_________________________________________________________________\n"
          ]
        }
      ],
      "source": [
        "# Call model\n",
        "model_cn_1 = cnn_model_1()\n",
        "model_cn_1.summary()\n"
      ]
    },
    {
      "cell_type": "markdown",
      "metadata": {
        "id": "P6zTLyp9AjQH"
      },
      "source": [
        "****Observations:****\n",
        "\n",
        "***First Conv2D Layer***\n",
        "The input shape to the Conv2D layer: (32,32,1)\n",
        "The Size of the Filter: 3x3\n",
        "The Number of Filters: 16\n",
        "The Number of parameters: (3x3x1+1)x 16 = 160\n",
        "(width of filter in current layer x height of filter in current layer x number of filters in previous layer + bias) x number of filters in current layer\n",
        "\n",
        "***Max Pooling Layer***\n",
        "Pooling has no trainable parameters, so the number of parameters: 0\n",
        "\n",
        "***Flatten***\n",
        "It does not have any trainable parameters, so the number of parameters: 0\n",
        "\n",
        "***Fully Connected Dense Layer***\n",
        "Number of neurons: 32\n",
        "Number of parameters: 262176\n",
        "[*Number of neurons in current layer x number of neurons in the previous layer (Here in max pooling layer: 14x14x16) + 1 x number of neurons in current layer (Bias)*]\n",
        "\n",
        "***Output Layer***\n",
        "Number of neurons: 10\n",
        "Number of parameters: (10x 32)+(1x10)= 330\n",
        "Number of neurons in current layer x number of neurons in the previous layer (Here in the previous dense layer: 128) + 1 x number of neurons in current layer(Bias)"
      ]
    },
    {
      "cell_type": "markdown",
      "metadata": {
        "id": "JPzfIf9kKDNw"
      },
      "source": [
        "### **Plot the Training and Validation Accuracies and Write your observations.**"
      ]
    },
    {
      "cell_type": "code",
      "execution_count": null,
      "metadata": {
        "id": "07oUCr1kAjQH",
        "colab": {
          "base_uri": "https://localhost:8080/"
        },
        "outputId": "b797eb26-7a69-48c5-abb9-488ff9a4aca3"
      },
      "outputs": [
        {
          "output_type": "stream",
          "name": "stdout",
          "text": [
            "Epoch 1/20\n",
            "1050/1050 [==============================] - 111s 105ms/step - loss: 1.1274 - accuracy: 0.6303 - val_loss: 0.6497 - val_accuracy: 0.8087\n",
            "Epoch 2/20\n",
            "1050/1050 [==============================] - 99s 94ms/step - loss: 0.5352 - accuracy: 0.8475 - val_loss: 0.5254 - val_accuracy: 0.8448\n",
            "Epoch 3/20\n",
            "1050/1050 [==============================] - 97s 93ms/step - loss: 0.4416 - accuracy: 0.8700 - val_loss: 0.5049 - val_accuracy: 0.8532\n",
            "Epoch 4/20\n",
            "1050/1050 [==============================] - 90s 86ms/step - loss: 0.3781 - accuracy: 0.8888 - val_loss: 0.4486 - val_accuracy: 0.8739\n",
            "Epoch 5/20\n",
            "1050/1050 [==============================] - 87s 83ms/step - loss: 0.3330 - accuracy: 0.9004 - val_loss: 0.4592 - val_accuracy: 0.8717\n",
            "Epoch 6/20\n",
            "1050/1050 [==============================] - 90s 86ms/step - loss: 0.2944 - accuracy: 0.9115 - val_loss: 0.4640 - val_accuracy: 0.8735\n",
            "Epoch 7/20\n",
            "1050/1050 [==============================] - 91s 86ms/step - loss: 0.2622 - accuracy: 0.9216 - val_loss: 0.4506 - val_accuracy: 0.8807\n",
            "Epoch 8/20\n",
            "1050/1050 [==============================] - 102s 97ms/step - loss: 0.2332 - accuracy: 0.9279 - val_loss: 0.4920 - val_accuracy: 0.8681\n",
            "Epoch 9/20\n",
            "1050/1050 [==============================] - 98s 93ms/step - loss: 0.2094 - accuracy: 0.9365 - val_loss: 0.4703 - val_accuracy: 0.8782\n",
            "Epoch 10/20\n",
            "1050/1050 [==============================] - 102s 97ms/step - loss: 0.1873 - accuracy: 0.9424 - val_loss: 0.4922 - val_accuracy: 0.8782\n",
            "Epoch 11/20\n",
            "1050/1050 [==============================] - 97s 92ms/step - loss: 0.1663 - accuracy: 0.9471 - val_loss: 0.5408 - val_accuracy: 0.8752\n",
            "Epoch 12/20\n",
            "1050/1050 [==============================] - 102s 97ms/step - loss: 0.1521 - accuracy: 0.9519 - val_loss: 0.5748 - val_accuracy: 0.8701\n",
            "Epoch 13/20\n",
            "1050/1050 [==============================] - 98s 93ms/step - loss: 0.1331 - accuracy: 0.9571 - val_loss: 0.6197 - val_accuracy: 0.8671\n",
            "Epoch 14/20\n",
            "1050/1050 [==============================] - 97s 93ms/step - loss: 0.1233 - accuracy: 0.9601 - val_loss: 0.6305 - val_accuracy: 0.8640\n",
            "Epoch 15/20\n",
            "1050/1050 [==============================] - 96s 92ms/step - loss: 0.1132 - accuracy: 0.9633 - val_loss: 0.6549 - val_accuracy: 0.8707\n",
            "Epoch 16/20\n",
            "1050/1050 [==============================] - 101s 97ms/step - loss: 0.1008 - accuracy: 0.9669 - val_loss: 0.7015 - val_accuracy: 0.8658\n",
            "Epoch 17/20\n",
            "1050/1050 [==============================] - 100s 95ms/step - loss: 0.0929 - accuracy: 0.9704 - val_loss: 0.6903 - val_accuracy: 0.8750\n",
            "Epoch 18/20\n",
            "1050/1050 [==============================] - 95s 90ms/step - loss: 0.0798 - accuracy: 0.9749 - val_loss: 0.7664 - val_accuracy: 0.8681\n",
            "Epoch 19/20\n",
            "1050/1050 [==============================] - 97s 92ms/step - loss: 0.0778 - accuracy: 0.9744 - val_loss: 0.7585 - val_accuracy: 0.8714\n",
            "Epoch 20/20\n",
            "1050/1050 [==============================] - 101s 97ms/step - loss: 0.0742 - accuracy: 0.9756 - val_loss: 0.8155 - val_accuracy: 0.8701\n"
          ]
        }
      ],
      "source": [
        "history_cn_1 = model_cn_1.fit(x = X_train_cn_norm, y = y_train_encoded, validation_split = 0.2, batch_size= 32, verbose= 1, epochs= 20)"
      ]
    },
    {
      "cell_type": "code",
      "execution_count": null,
      "metadata": {
        "colab": {
          "base_uri": "https://localhost:8080/",
          "height": 472
        },
        "outputId": "fbeabce2-a7c7-4af6-9605-a32a66f3a8ce",
        "id": "iX1I3LTMgTmQ"
      },
      "outputs": [
        {
          "output_type": "display_data",
          "data": {
            "text/plain": [
              "<Figure size 640x480 with 1 Axes>"
            ],
            "image/png": "[encoded data removed]"
          },
          "metadata": {}
        }
      ],
      "source": [
        "#Graph here for CNN Model 1\n",
        "plt.plot(history_cn_1.history['accuracy'])\n",
        "plt.plot(history_cn_1.history['val_accuracy'])\n",
        "plt.title('Accuracy vs Epochs')\n",
        "plt.ylabel('Accuracy')\n",
        "plt.xlabel('Epoch')\n",
        "plt.legend(['Train', 'Validation'], loc='lower right')\n",
        "plt.show()"
      ]
    },
    {
      "cell_type": "markdown",
      "source": [
        "The CNN model_1 has not performed better on validation data. The validation accuracy rate of 85%."
      ],
      "metadata": {
        "id": "7rq5L_GyH_qT"
      }
    },
    {
      "cell_type": "markdown",
      "source": [
        "Let's build another model and see if we can get a better model with generalized performance.\n",
        "\n",
        "First, we need to clear the previous model's history from the Keras backend. Also, let's fix the seed again after clearing the backend."
      ],
      "metadata": {
        "id": "-pB71RnsIp2j"
      }
    },
    {
      "cell_type": "markdown",
      "metadata": {
        "id": "Ep19Jd8HAjQH"
      },
      "source": [
        "### **Second Model Architecture**\n",
        "\n",
        "- Write a function that returns a sequential model with the following architecture:\n",
        " - First Convolutional layer with **16 filters and the kernel size of 3x3**. Use the **'same' padding** and provide the **input shape = (32, 32, 1)**\n",
        " - Add a **LeakyRelu layer** with the **slope equal to 0.1**\n",
        " - Second Convolutional layer with **32 filters and the kernel size of 3x3 with 'same' padding**\n",
        " - Add **LeakyRelu** with the **slope equal to 0.1**\n",
        " - Add a **max-pooling layer** with a **pool size of 2x2**\n",
        " - Add a **BatchNormalization layer**\n",
        " - Third Convolutional layer with **32 filters and the kernel size of 3x3 with 'same' padding**\n",
        " - Add a **LeakyRelu layer with the slope equal to 0.1**\n",
        " - Fourth Convolutional layer **64 filters and the kernel size of 3x3 with 'same' padding**\n",
        " - Add a **LeakyRelu layer with the slope equal to 0.1**\n",
        " - Add a **max-pooling layer** with a **pool size of 2x2**\n",
        " - Add a **BatchNormalization layer**\n",
        " - **Flatten** the output from the previous layer\n",
        " - Add a **dense layer with 32 nodes**\n",
        " - Add a **LeakyRelu layer with the slope equal to 0.1**\n",
        " - Add a **dropout layer with the rate equal to 0.5**\n",
        " - Add the final **output layer with nodes equal to the number of classes, i.e., 10** and **'softmax' as the activation function**\n",
        " - Compile the model with the **categorical_crossentropy loss, adam optimizers (learning_rate = 0.001), and metric equal to 'accuracy'**. Do not fit the model here, just return the compiled model.\n",
        "- Call the function cnn_model_2 and store the model in a new variable.\n",
        "- Print the summary of the model.\n",
        "- Fit the model on the train data with a **validation split of 0.2, batch size = 128, verbose = 1, and epochs = 30**. Store the model building history to use later for visualization."
      ]
    },
    {
      "cell_type": "code",
      "source": [
        "#Reset all state generated by Keras\n",
        "clear_backend()\n",
        "\n",
        "#Call method for Resetting the seed for random number generators in Numpy, Python's Random package, and TensorFlow\n",
        "# to ensure we are able to reproduce these results every time we run the code.\n",
        "fix_seed_rdm_gen()"
      ],
      "metadata": {
        "colab": {
          "base_uri": "https://localhost:8080/"
        },
        "id": "ncvlKce8g6b8",
        "outputId": "14243fed-1256-4377-d87a-2b9a39f4077d"
      },
      "execution_count": null,
      "outputs": [
        {
          "output_type": "stream",
          "name": "stdout",
          "text": [
            "Backend session clear complete!\n",
            "Resetting the seed complete!\n"
          ]
        }
      ]
    },
    {
      "cell_type": "markdown",
      "metadata": {
        "id": "y5IBLS1eKDNy"
      },
      "source": [
        "### **Build and train the second CNN model as per the above mentioned architecture.**"
      ]
    },
    {
      "cell_type": "code",
      "execution_count": null,
      "metadata": {
        "id": "wk9sl2UEAjQH"
      },
      "outputs": [],
      "source": [
        "def cnn_model_2():\n",
        "# Adding first conv layer with 16 filters and kernel size 3x3 , padding 'same' provides the output size same as the input size\n",
        "# Input_shape denotes input image dimension of MNIST images\n",
        "  input_shp = (32, 32, 1)\n",
        "  model = Sequential()\n",
        "  #First layer - Convolutional layer with 16 filters and the kernel size of 3x3, and input shape = (32, 32, 1)\n",
        "  model.add(Conv2D(16, (3, 3), padding = 'same',  input_shape=input_shp))\n",
        "\n",
        "  # add LeakyRelu with slope = 0.1\n",
        "  model.add(LeakyReLU(alpha=0.1))\n",
        "\n",
        " #Add Second layer - Convolutional layer with 32 filters and the kernel size of 3x3 with 'same' padding\n",
        "  model.add(Conv2D(32, (3, 3), padding=\"same\"))\n",
        " # add LeakyRelu with slope = 0.1\n",
        "  model.add(LeakyReLU(alpha=0.1))\n",
        "  #Add Max-pooling layer with a pool size of 2x2\n",
        "  model.add(MaxPooling2D(2, 2))\n",
        "  # Add a BatchNormalization layer\n",
        "  model.add(BatchNormalization())\n",
        "\n",
        "#Third Convolutional layer with 32 filters and the kernel size of 3x3 with 'same' padding\n",
        "  model.add(Conv2D(32, (3, 3), padding=\"same\"))\n",
        "# Add a LeakyRelu layer with the slope equal to 0.1\n",
        "  model.add(LeakyReLU(alpha=0.1))\n",
        "\n",
        "# Fourth Convolutional layer 64 filters and the kernel size of 3x3 with 'same' padding\n",
        "  model.add(Conv2D(64, (3, 3), padding=\"same\"))\n",
        "# Add a LeakyRelu layer with the slope equal to 0.1\n",
        "  model.add(LeakyReLU(alpha=0.1))\n",
        "# Add a max-pooling layer with a pool size of 2x2\n",
        "  model.add(MaxPooling2D(2, 2))\n",
        "# Add a BatchNormalization layer\n",
        "  model.add(BatchNormalization())\n",
        "\n",
        "# flattening the output of the conv layer after max pooling to make it ready for creating dense connections\n",
        "  model.add(Flatten())\n",
        "\n",
        "#Add a dense layer with 32 nodes\n",
        "  model.add(Dense(32))\n",
        "#Add a LeakyRelu layer with the slope equal to 0.1\n",
        "  model.add(LeakyReLU(alpha=0.1))\n",
        "#Add a Dropout layer\n",
        "  model.add(Dropout(0.5))\n",
        "\n",
        "#Add the final output layer number of classes = 10 and 'softmax' as the activation function\n",
        "  model.add(Dense(10, activation='softmax'))\n",
        "\n",
        "#Compile the model with the loss equal to categorical_crossentropy, optimizer equal to Adam(learning_rate = 0.001), and metric equal to 'accuracy'.\n",
        "  model.compile(optimizer= Adam(learning_rate=0.001), loss='categorical_crossentropy', metrics=['accuracy'])\n",
        "\n",
        "  return model"
      ]
    },
    {
      "cell_type": "code",
      "source": [
        "model_cn_2 = cnn_model_2()\n",
        "print(model_cn_2.summary())"
      ],
      "metadata": {
        "colab": {
          "base_uri": "https://localhost:8080/"
        },
        "id": "pA7TYE7jefqM",
        "outputId": "d615c759-f48b-469e-dee9-4fbc58826bbd"
      },
      "execution_count": null,
      "outputs": [
        {
          "output_type": "stream",
          "name": "stdout",
          "text": [
            "Model: \"sequential\"\n",
            "_________________________________________________________________\n",
            " Layer (type)                Output Shape              Param #   \n",
            "=================================================================\n",
            " conv2d (Conv2D)             (None, 32, 32, 16)        160       \n",
            "                                                                 \n",
            " leaky_re_lu (LeakyReLU)     (None, 32, 32, 16)        0         \n",
            "                                                                 \n",
            " conv2d_1 (Conv2D)           (None, 32, 32, 32)        4640      \n",
            "                                                                 \n",
            " leaky_re_lu_1 (LeakyReLU)   (None, 32, 32, 32)        0         \n",
            "                                                                 \n",
            " max_pooling2d (MaxPooling2D  (None, 16, 16, 32)       0         \n",
            " )                                                               \n",
            "                                                                 \n",
            " batch_normalization (BatchN  (None, 16, 16, 32)       128       \n",
            " ormalization)                                                   \n",
            "                                                                 \n",
            " conv2d_2 (Conv2D)           (None, 16, 16, 32)        9248      \n",
            "                                                                 \n",
            " leaky_re_lu_2 (LeakyReLU)   (None, 16, 16, 32)        0         \n",
            "                                                                 \n",
            " conv2d_3 (Conv2D)           (None, 16, 16, 64)        18496     \n",
            "                                                                 \n",
            " leaky_re_lu_3 (LeakyReLU)   (None, 16, 16, 64)        0         \n",
            "                                                                 \n",
            " max_pooling2d_1 (MaxPooling  (None, 8, 8, 64)         0         \n",
            " 2D)                                                             \n",
            "                                                                 \n",
            " batch_normalization_1 (Batc  (None, 8, 8, 64)         256       \n",
            " hNormalization)                                                 \n",
            "                                                                 \n",
            " flatten (Flatten)           (None, 4096)              0         \n",
            "                                                                 \n",
            " dense (Dense)               (None, 32)                131104    \n",
            "                                                                 \n",
            " leaky_re_lu_4 (LeakyReLU)   (None, 32)                0         \n",
            "                                                                 \n",
            " dropout (Dropout)           (None, 32)                0         \n",
            "                                                                 \n",
            " dense_1 (Dense)             (None, 10)                330       \n",
            "                                                                 \n",
            "=================================================================\n",
            "Total params: 164,362\n",
            "Trainable params: 164,170\n",
            "Non-trainable params: 192\n",
            "_________________________________________________________________\n",
            "None\n"
          ]
        }
      ]
    },
    {
      "cell_type": "markdown",
      "source": [
        "**Observations**\n"
      ],
      "metadata": {
        "id": "I7Bm3iPQe96O"
      }
    },
    {
      "cell_type": "code",
      "source": [
        "#Fit the model on the train data with a validation split of 0.2, batch size = 128, verbose = 1, and epochs = 30.\n",
        "history_cn_2 = model_cn_2.fit(x = X_train_cn_norm, y = y_train_encoded, validation_split = 0.2, batch_size= 128, verbose= 1, epochs= 30)"
      ],
      "metadata": {
        "colab": {
          "base_uri": "https://localhost:8080/"
        },
        "id": "DGixxUtVfJvY",
        "outputId": "5bd54225-bc63-48db-c9e9-7ac67723fb2e"
      },
      "execution_count": null,
      "outputs": [
        {
          "output_type": "stream",
          "name": "stdout",
          "text": [
            "Epoch 1/30\n",
            "263/263 [==============================] - 179s 676ms/step - loss: 1.3271 - accuracy: 0.5491 - val_loss: 1.8763 - val_accuracy: 0.3475\n",
            "Epoch 2/30\n",
            "263/263 [==============================] - 180s 684ms/step - loss: 0.6722 - accuracy: 0.7940 - val_loss: 0.5646 - val_accuracy: 0.8446\n",
            "Epoch 3/30\n",
            "263/263 [==============================] - 178s 678ms/step - loss: 0.5530 - accuracy: 0.8310 - val_loss: 0.4333 - val_accuracy: 0.8739\n",
            "Epoch 4/30\n",
            "263/263 [==============================] - 164s 622ms/step - loss: 0.4921 - accuracy: 0.8483 - val_loss: 0.4754 - val_accuracy: 0.8651\n",
            "Epoch 5/30\n",
            "263/263 [==============================] - 164s 623ms/step - loss: 0.4399 - accuracy: 0.8624 - val_loss: 0.3768 - val_accuracy: 0.8963\n",
            "Epoch 6/30\n",
            "263/263 [==============================] - 155s 589ms/step - loss: 0.4033 - accuracy: 0.8764 - val_loss: 0.3743 - val_accuracy: 0.8935\n",
            "Epoch 7/30\n",
            "263/263 [==============================] - 157s 597ms/step - loss: 0.3876 - accuracy: 0.8813 - val_loss: 0.3795 - val_accuracy: 0.8935\n",
            "Epoch 8/30\n",
            "263/263 [==============================] - 153s 582ms/step - loss: 0.3505 - accuracy: 0.8890 - val_loss: 0.3397 - val_accuracy: 0.9100\n",
            "Epoch 9/30\n",
            "263/263 [==============================] - 152s 578ms/step - loss: 0.3317 - accuracy: 0.8968 - val_loss: 0.3540 - val_accuracy: 0.9048\n",
            "Epoch 10/30\n",
            "263/263 [==============================] - 153s 583ms/step - loss: 0.3098 - accuracy: 0.9045 - val_loss: 0.3534 - val_accuracy: 0.8985\n",
            "Epoch 11/30\n",
            "263/263 [==============================] - 160s 608ms/step - loss: 0.2903 - accuracy: 0.9082 - val_loss: 0.3629 - val_accuracy: 0.9055\n",
            "Epoch 12/30\n",
            "263/263 [==============================] - 152s 578ms/step - loss: 0.2815 - accuracy: 0.9110 - val_loss: 0.3954 - val_accuracy: 0.9079\n",
            "Epoch 13/30\n",
            "263/263 [==============================] - 154s 586ms/step - loss: 0.2723 - accuracy: 0.9128 - val_loss: 0.3541 - val_accuracy: 0.9004\n",
            "Epoch 14/30\n",
            "263/263 [==============================] - 159s 605ms/step - loss: 0.2562 - accuracy: 0.9181 - val_loss: 0.3613 - val_accuracy: 0.9124\n",
            "Epoch 15/30\n",
            "263/263 [==============================] - 167s 635ms/step - loss: 0.2440 - accuracy: 0.9210 - val_loss: 0.3461 - val_accuracy: 0.9158\n",
            "Epoch 16/30\n",
            "263/263 [==============================] - 167s 634ms/step - loss: 0.2309 - accuracy: 0.9252 - val_loss: 0.3642 - val_accuracy: 0.9102\n",
            "Epoch 17/30\n",
            "263/263 [==============================] - 165s 629ms/step - loss: 0.2201 - accuracy: 0.9299 - val_loss: 0.3719 - val_accuracy: 0.9136\n",
            "Epoch 18/30\n",
            "263/263 [==============================] - 162s 616ms/step - loss: 0.2141 - accuracy: 0.9314 - val_loss: 0.3829 - val_accuracy: 0.9092\n",
            "Epoch 19/30\n",
            "263/263 [==============================] - 164s 625ms/step - loss: 0.2078 - accuracy: 0.9327 - val_loss: 0.4008 - val_accuracy: 0.9093\n",
            "Epoch 20/30\n",
            "263/263 [==============================] - 158s 602ms/step - loss: 0.2058 - accuracy: 0.9315 - val_loss: 0.3663 - val_accuracy: 0.9142\n",
            "Epoch 21/30\n",
            "263/263 [==============================] - 155s 592ms/step - loss: 0.1957 - accuracy: 0.9361 - val_loss: 0.3827 - val_accuracy: 0.9085\n",
            "Epoch 22/30\n",
            "263/263 [==============================] - 154s 585ms/step - loss: 0.1852 - accuracy: 0.9382 - val_loss: 0.3940 - val_accuracy: 0.9151\n",
            "Epoch 23/30\n",
            "263/263 [==============================] - 151s 572ms/step - loss: 0.1844 - accuracy: 0.9404 - val_loss: 0.4162 - val_accuracy: 0.9070\n",
            "Epoch 24/30\n",
            "263/263 [==============================] - 152s 579ms/step - loss: 0.1797 - accuracy: 0.9412 - val_loss: 0.4715 - val_accuracy: 0.8896\n",
            "Epoch 25/30\n",
            "263/263 [==============================] - 156s 594ms/step - loss: 0.1721 - accuracy: 0.9431 - val_loss: 0.4154 - val_accuracy: 0.9127\n",
            "Epoch 26/30\n",
            "263/263 [==============================] - 162s 614ms/step - loss: 0.1649 - accuracy: 0.9454 - val_loss: 0.3934 - val_accuracy: 0.9150\n",
            "Epoch 27/30\n",
            "263/263 [==============================] - 161s 611ms/step - loss: 0.1690 - accuracy: 0.9436 - val_loss: 0.3883 - val_accuracy: 0.9069\n",
            "Epoch 28/30\n",
            "263/263 [==============================] - 163s 620ms/step - loss: 0.1546 - accuracy: 0.9483 - val_loss: 0.5374 - val_accuracy: 0.8960\n",
            "Epoch 29/30\n",
            "263/263 [==============================] - 161s 611ms/step - loss: 0.1545 - accuracy: 0.9486 - val_loss: 0.4768 - val_accuracy: 0.9125\n",
            "Epoch 30/30\n",
            "263/263 [==============================] - 161s 613ms/step - loss: 0.1468 - accuracy: 0.9504 - val_loss: 0.4434 - val_accuracy: 0.9154\n"
          ]
        }
      ]
    },
    {
      "cell_type": "markdown",
      "metadata": {
        "id": "PyhUtMy3KDN1"
      },
      "source": [
        "### **Plot the Training and Validation accuracies and write your observations.**"
      ]
    },
    {
      "cell_type": "code",
      "execution_count": null,
      "metadata": {
        "id": "YVQu7uWiAjQH",
        "colab": {
          "base_uri": "https://localhost:8080/",
          "height": 472
        },
        "outputId": "95619cb7-1030-4dbd-8066-af66b74368af"
      },
      "outputs": [
        {
          "output_type": "display_data",
          "data": {
            "text/plain": [
              "<Figure size 640x480 with 1 Axes>"
            ],
            "image/png": "[encoded data removed]"
          },
          "metadata": {}
        }
      ],
      "source": [
        "#Graph here for CNN Model 2\n",
        "plt.plot(history_cn_2.history['accuracy'])\n",
        "plt.plot(history_cn_2.history['val_accuracy'])\n",
        "plt.title('Accuracy vs Epochs')\n",
        "plt.ylabel('Accuracy')\n",
        "plt.xlabel('Epoch')\n",
        "plt.legend(['Train', 'Validation'], loc='lower right')\n",
        "plt.show()"
      ]
    },
    {
      "cell_type": "markdown",
      "metadata": {
        "id": "Qrrt0Ac3AjQH"
      },
      "source": [
        "**Observations:________**\n",
        "\n",
        "The CNN model_2 has performed better on train and validation data with validation accuracy rate of 90%."
      ]
    },
    {
      "cell_type": "markdown",
      "metadata": {
        "id": "kja4SnOdAjQI"
      },
      "source": [
        "## **Predictions on the test data**\n",
        "\n",
        "- Make predictions on the test set using the second model.\n",
        "- Print the obtained results using the classification report and the confusion matrix.\n",
        "- Final observations on the obtained results."
      ]
    },
    {
      "cell_type": "markdown",
      "metadata": {
        "id": "eHCRwRbgKDN2"
      },
      "source": [
        "### **Make predictions on the test data using the second model.**"
      ]
    },
    {
      "cell_type": "code",
      "execution_count": null,
      "metadata": {
        "id": "f1d-VvaLAjQI",
        "colab": {
          "base_uri": "https://localhost:8080/"
        },
        "outputId": "363c507f-9a47-491a-ae7b-213d5846037c"
      },
      "outputs": [
        {
          "output_type": "stream",
          "name": "stdout",
          "text": [
            "563/563 [==============================] - 24s 43ms/step\n"
          ]
        }
      ],
      "source": [
        "#Prediction based on model_2\n",
        "test_pred_cn = model_cn_2.predict(X_test_cn_norm)\n",
        "\n",
        "#convert each entry of y_test to a single label from one-hot encoded\n",
        "test_pred_cn = np.argmax(test_pred_cn, axis = -1)"
      ]
    },
    {
      "cell_type": "markdown",
      "metadata": {
        "id": "DrV1tOG0AjQI"
      },
      "source": [
        "**Note:** Earlier, we noticed that each entry of the target variable is a one-hot encoded vector, but to print the classification report and confusion matrix, we must convert each entry of y_test to a single label."
      ]
    },
    {
      "cell_type": "code",
      "source": [
        "print(\"Expected target categories:\", y_test_cn)\n",
        "print(\"Converted from one-hot encoded target categories:\", test_pred_cn)\n"
      ],
      "metadata": {
        "colab": {
          "base_uri": "https://localhost:8080/"
        },
        "id": "LUts8ESe4Bca",
        "outputId": "00c6ecf7-32cd-4005-a8b5-53cda12dbf70"
      },
      "execution_count": null,
      "outputs": [
        {
          "output_type": "stream",
          "name": "stdout",
          "text": [
            "Expected target categories: [1 7 2 ... 7 9 2]\n",
            "Converted from one-hot encoded target categories: [1 7 2 ... 7 3 2]\n"
          ]
        }
      ]
    },
    {
      "cell_type": "markdown",
      "metadata": {
        "id": "aVCa-ysWKDN3"
      },
      "source": [
        "### **Write your final observations on the performance of the model on the test data.**"
      ]
    },
    {
      "cell_type": "code",
      "execution_count": null,
      "metadata": {
        "id": "sOMq2rCJAjQJ",
        "colab": {
          "base_uri": "https://localhost:8080/",
          "height": 991
        },
        "outputId": "89bb4988-6c3e-43de-c333-49ee0e31e90a"
      },
      "outputs": [
        {
          "output_type": "stream",
          "name": "stdout",
          "text": [
            "              precision    recall  f1-score   support\n",
            "\n",
            "           0       0.90      0.95      0.93      1814\n",
            "           1       0.89      0.93      0.91      1828\n",
            "           2       0.94      0.90      0.92      1803\n",
            "           3       0.90      0.89      0.89      1719\n",
            "           4       0.94      0.92      0.93      1812\n",
            "           5       0.90      0.92      0.91      1768\n",
            "           6       0.92      0.88      0.90      1832\n",
            "           7       0.92      0.94      0.93      1808\n",
            "           8       0.93      0.88      0.90      1812\n",
            "           9       0.90      0.92      0.91      1804\n",
            "\n",
            "    accuracy                           0.91     18000\n",
            "   macro avg       0.91      0.91      0.91     18000\n",
            "weighted avg       0.91      0.91      0.91     18000\n",
            "\n"
          ]
        },
        {
          "output_type": "display_data",
          "data": {
            "text/plain": [
              "<Figure size 1200x800 with 2 Axes>"
            ],
            "image/png": "[encoded data removed]"
          },
          "metadata": {}
        }
      ],
      "source": [
        "from sklearn.metrics import classification_report\n",
        "from sklearn.metrics import confusion_matrix\n",
        "\n",
        "print(classification_report(y_test_cn, test_pred_cn)) # actual value vs. predicted value\n",
        "cm = confusion_matrix(y_test_cn, test_pred_cn)        # Create confusion matrix\n",
        "\n",
        "plt.figure(figsize=(12,8))\n",
        "sns.heatmap(cm, annot=True,  fmt='.0f')\n",
        "plt.ylabel('Actual')\n",
        "plt.xlabel('Predicted')\n",
        "plt.show()"
      ]
    },
    {
      "cell_type": "markdown",
      "metadata": {
        "id": "TNN9v713AjQJ"
      },
      "source": [
        "**Final Observations:_________**\n",
        "\n",
        "\n",
        "*   Majority of the images were classified accurately that can be dedicated by the Recall, Precision and average accuracy rate which all are approximately 91%\n",
        "*   A higher number of missclassification are observed for digits 5 and 3, and 5 and 6.\n",
        "\n"
      ]
    },
    {
      "cell_type": "markdown",
      "source": [
        "**Comparing the observation between ANN and CNN**\n",
        "\n",
        "The results of CNN model 2 are more accurate 91% compared to ANN model 2 which has the accuracy of 72%.\n",
        "\n",
        "The use of multiple convolution layers for feature extraction in addiontion of dense layer has an added advantage over ANN model where we used five dense layer, dropout and batch normalization which were similar to the CNN model.\n",
        "\n",
        "In addition CNN model is computionally more efficient than ANN model. For ANN model we used 310,122 Trainable params, whereas CNN model used only 164,170 Trainable params."
      ],
      "metadata": {
        "id": "8yzLpVCfBB01"
      }
    }
  ],
  "metadata": {
    "accelerator": "TPU",
    "colab": {
      "provenance": [],
      "include_colab_link": true
    },
    "kernelspec": {
      "display_name": "Python 3 (ipykernel)",
      "language": "python",
      "name": "python3"
    },
    "language_info": {
      "codemirror_mode": {
        "name": "ipython",
        "version": 3
      },
      "file_extension": ".py",
      "mimetype": "text/x-python",
      "name": "python",
      "nbconvert_exporter": "python",
      "pygments_lexer": "ipython3",
      "version": "3.9.7"
    }
  },
  "nbformat": 4,
  "nbformat_minor": 0
}